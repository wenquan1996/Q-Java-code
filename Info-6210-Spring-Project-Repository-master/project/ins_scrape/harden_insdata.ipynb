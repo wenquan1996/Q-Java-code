{
 "cells": [
  {
   "cell_type": "code",
   "execution_count": 1,
   "metadata": {},
   "outputs": [
    {
     "name": "stderr",
     "output_type": "stream",
     "text": [
      "C:\\ProgramData\\Anaconda3\\lib\\site-packages\\win_unicode_console\\__init__.py:31: RuntimeWarning: sys.stdin.encoding == 'cp1252', whereas sys.stdout.encoding == 'UTF-8', readline hook consumer may assume they are the same\n",
      "  readline_hook.enable(use_pyreadline=use_pyreadline)\n"
     ]
    }
   ],
   "source": [
    "#import library\n",
    "import json\n",
    "import oauth2 as oauth\n",
    "import twitter\n",
    "import urllib\n",
    "import bs4\n",
    "import numpy as np\n",
    "import pandas as pd\n",
    "import tweepy\n",
    "import instaloader\n",
    "import csv\n",
    "#get user profile according to user_name\n",
    "L=instaloader.Instaloader()\n",
    "profile=instaloader.Profile.from_username(L.context,'jharden13')"
   ]
  },
  {
   "cell_type": "code",
   "execution_count": 2,
   "metadata": {},
   "outputs": [],
   "source": [
    "#create list and get post from profile\n",
    "posts=profile.get_posts()\n",
    "name=[]\n",
    "id=[]\n",
    "likes=[]\n",
    "comments=[]\n",
    "caption=[]\n",
    "hashtag=[]\n",
    "mediaid=[]\n",
    "i=0\n",
    "#from post to get attributes \n",
    "for post in posts:\n",
    "    if i <500:\n",
    "        table_1=post.owner_username\n",
    "        name.append(table_1)\n",
    "        table_2=post.owner_id\n",
    "        id.append(table_2)\n",
    "        table_3=post.likes\n",
    "        likes.append(table_3)\n",
    "        table_4=post.comments\n",
    "        comments.append(table_4)\n",
    "        table_5=post.caption\n",
    "        caption.append(table_5)\n",
    "        table_6=post.caption_hashtags\n",
    "        hashtag.append(table_6)\n",
    "        table_7=post.mediaid\n",
    "        mediaid.append(table_7)\n",
    "        i +=1"
   ]
  },
  {
   "cell_type": "code",
   "execution_count": 3,
   "metadata": {},
   "outputs": [],
   "source": [
    "#create dataframe\n",
    "user_info={'name':name,'id':id,'likes':likes,'comments':comments,'caption':caption,'hashtag':hashtag,'mediaid':mediaid}\n",
    "df=pd.DataFrame(user_info)"
   ]
  },
  {
   "cell_type": "code",
   "execution_count": 4,
   "metadata": {},
   "outputs": [],
   "source": [
    "#export csv file\n",
    "df.to_csv(\"harden1.csv\")\n",
    "df2=pd.read_csv(\"harden1.csv\")\n",
    "df3=df2.drop('hashtag',axis=1).join(df2[\"hashtag\"].str.split(',',expand=True).stack().reset_index(level=1,drop = True).rename(\"taggs\"))\n",
    "df3\n",
    "df3.to_csv(\"harden_data.csv\")"
   ]
  },
  {
   "cell_type": "code",
   "execution_count": 5,
   "metadata": {},
   "outputs": [],
   "source": [
    "#check null in data\n",
    "df4=df3.fillna(0)"
   ]
  },
  {
   "cell_type": "code",
   "execution_count": 6,
   "metadata": {},
   "outputs": [
    {
     "data": {
      "text/html": [
       "<div>\n",
       "<style scoped>\n",
       "    .dataframe tbody tr th:only-of-type {\n",
       "        vertical-align: middle;\n",
       "    }\n",
       "\n",
       "    .dataframe tbody tr th {\n",
       "        vertical-align: top;\n",
       "    }\n",
       "\n",
       "    .dataframe thead th {\n",
       "        text-align: right;\n",
       "    }\n",
       "</style>\n",
       "<table border=\"1\" class=\"dataframe\">\n",
       "  <thead>\n",
       "    <tr style=\"text-align: right;\">\n",
       "      <th></th>\n",
       "      <th>Unnamed: 0</th>\n",
       "      <th>name</th>\n",
       "      <th>id</th>\n",
       "      <th>likes</th>\n",
       "      <th>comments</th>\n",
       "      <th>caption</th>\n",
       "      <th>mediaid</th>\n",
       "      <th>taggs</th>\n",
       "    </tr>\n",
       "  </thead>\n",
       "  <tbody>\n",
       "  </tbody>\n",
       "</table>\n",
       "</div>"
      ],
      "text/plain": [
       "Empty DataFrame\n",
       "Columns: [Unnamed: 0, name, id, likes, comments, caption, mediaid, taggs]\n",
       "Index: []"
      ]
     },
     "execution_count": 6,
     "metadata": {},
     "output_type": "execute_result"
    }
   ],
   "source": [
    "df4[df4.isnull().values==True]"
   ]
  },
  {
   "cell_type": "code",
   "execution_count": 7,
   "metadata": {},
   "outputs": [
    {
     "data": {
      "text/plain": [
       "Unnamed: 0    False\n",
       "name          False\n",
       "id            False\n",
       "likes         False\n",
       "comments      False\n",
       "caption       False\n",
       "mediaid       False\n",
       "taggs         False\n",
       "dtype: bool"
      ]
     },
     "execution_count": 7,
     "metadata": {},
     "output_type": "execute_result"
    }
   ],
   "source": [
    "df4.isnull().any()"
   ]
  },
  {
   "cell_type": "markdown",
   "metadata": {},
   "source": [
    "# Reference\n",
    "I have referred the code in the internet about 20% \n",
    "\n",
    "MIT License\n",
    "\t\n",
    "\tCopyright (c) 2019 Tong Liu, Quan Wen, Congxiang Dong\n",
    "\t\n",
    "\tPermission is hereby granted, free of charge, to any person obtaining a copy\n",
    "\tof this software and associated documentation files (the \"Software\"), to deal\n",
    "\tin the Software without restriction, including without limitation the rights\n",
    "\tto use, copy, modify, merge, publish, distribute, sublicense, and/or sell\n",
    "\tcopies of the Software, and to permit persons to whom the Software is\n",
    "\tfurnished to do so, subject to the following conditions:\n",
    "\t\n",
    "\tThe above copyright notice and this permission notice shall be included in all\n",
    "\tcopies or substantial portions of the Software.\n",
    "\t\n",
    "\tTHE SOFTWARE IS PROVIDED \"AS IS\", WITHOUT WARRANTY OF ANY KIND, EXPRESS OR\n",
    "\tIMPLIED, INCLUDING BUT NOT LIMITED TO THE WARRANTIES OF MERCHANTABILITY,\n",
    "\tFITNESS FOR A PARTICULAR PURPOSE AND NONINFRINGEMENT. IN NO EVENT SHALL THE\n",
    "\tAUTHORS OR COPYRIGHT HOLDERS BE LIABLE FOR ANY CLAIM, DAMAGES OR OTHER\n",
    "\tLIABILITY, WHETHER IN AN ACTION OF CONTRACT, TORT OR OTHERWISE, ARISING FROM,\n",
    "\tOUT OF OR IN CONNECTION WITH THE SOFTWARE OR THE USE OR OTHER DEALINGS IN THE\n",
    "\tSOFTWARE."
   ]
  },
  {
   "cell_type": "code",
   "execution_count": null,
   "metadata": {},
   "outputs": [],
   "source": []
  }
 ],
 "metadata": {
  "kernelspec": {
   "display_name": "Python 3",
   "language": "python",
   "name": "python3"
  },
  "language_info": {
   "codemirror_mode": {
    "name": "ipython",
    "version": 3
   },
   "file_extension": ".py",
   "mimetype": "text/x-python",
   "name": "python",
   "nbconvert_exporter": "python",
   "pygments_lexer": "ipython3",
   "version": "3.7.3"
  }
 },
 "nbformat": 4,
 "nbformat_minor": 2
}
