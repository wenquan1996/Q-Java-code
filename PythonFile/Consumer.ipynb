{
 "cells": [
  {
   "cell_type": "code",
   "execution_count": 1,
   "metadata": {},
   "outputs": [],
   "source": [
    "import numpy as np\n",
    "import matplotlib.pyplot as plt\n",
    "import seaborn as sb\n",
    "import pandas as pd"
   ]
  },
  {
   "cell_type": "code",
   "execution_count": 2,
   "metadata": {},
   "outputs": [],
   "source": [
    "df1 = pd.read_csv(\"ChrisPaul_Hashtag.csv\")\n",
    "left = df1\n",
    "df2 = pd.read_csv(\"Harden_Hashtag.csv\")\n",
    "right = df2\n",
    "dfHouston = pd.merge(left,right,how = 'outer')"
   ]
  },
  {
   "cell_type": "code",
   "execution_count": 3,
   "metadata": {},
   "outputs": [],
   "source": [
    "df3 = pd.read_csv(\"KevinDurant_Hashtag.csv\")\n",
    "left = df3\n",
    "df4 = pd.read_csv(\"StephenCurry_Hashtag.csv\")\n",
    "right = df4\n",
    "dfWarriors = pd.merge(left,right,how = 'outer')"
   ]
  },
  {
   "cell_type": "code",
   "execution_count": 4,
   "metadata": {},
   "outputs": [],
   "source": [
    "df5 = pd.read_csv(\"LeBron_Hashtag.csv\")\n",
    "left = df5\n",
    "df6 = pd.read_csv(\"Rajon_Hashtag.csv\")\n",
    "right = df6\n",
    "dfLakers = pd.merge(left,right,how = 'outer')"
   ]
  },
  {
   "cell_type": "code",
   "execution_count": 5,
   "metadata": {},
   "outputs": [],
   "source": [
    "left = dfHouston\n",
    "right = dfWarriors\n",
    "df7 = pd.merge(left,right,how = 'outer')"
   ]
  },
  {
   "cell_type": "code",
   "execution_count": 6,
   "metadata": {},
   "outputs": [],
   "source": [
    "left = dfLakers\n",
    "right = df7\n",
    "df8 = pd.merge(left,right,how = 'outer')"
   ]
  },
  {
   "cell_type": "code",
   "execution_count": 8,
   "metadata": {},
   "outputs": [],
   "source": [
    "df8.to_csv('HashTag_Players.csv')"
   ]
  },
  {
   "cell_type": "code",
   "execution_count": null,
   "metadata": {},
   "outputs": [],
   "source": []
  }
 ],
 "metadata": {
  "kernelspec": {
   "display_name": "Python 3",
   "language": "python",
   "name": "python3"
  },
  "language_info": {
   "codemirror_mode": {
    "name": "ipython",
    "version": 3
   },
   "file_extension": ".py",
   "mimetype": "text/x-python",
   "name": "python",
   "nbconvert_exporter": "python",
   "pygments_lexer": "ipython3",
   "version": "3.7.1"
  }
 },
 "nbformat": 4,
 "nbformat_minor": 2
}
