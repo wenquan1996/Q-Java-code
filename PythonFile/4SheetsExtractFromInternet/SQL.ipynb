{
 "cells": [
  {
   "cell_type": "markdown",
   "metadata": {},
   "source": [
    "# Abstruct"
   ]
  },
  {
   "cell_type": "markdown",
   "metadata": {},
   "source": [
    "In this assignment, our theme is movies. We get 30 most popular movies from the IMDB, and get the directors' twitter information and the companies' twitter information through the twitter API. Then get the posts information and user's post status in the last 10 days from the instgram. At last we import all the data above into a database and use Sqlite3 in Python to analyze the data."
   ]
  },
  {
   "cell_type": "markdown",
   "metadata": {},
   "source": [
    "# Data Description"
   ]
  },
  {
   "cell_type": "markdown",
   "metadata": {},
   "source": [
    "The database contains 5 different tables come from five different sources,they are: imdb_movie_table, directors'_accounts_table, companies'_accounts_table, instgram_posts_table, users'_posts_in_instgram_table."
   ]
  },
  {
   "cell_type": "code",
   "execution_count": 1,
   "metadata": {},
   "outputs": [],
   "source": [
    "#the directors_table has 11 columns and 17 rows\n",
    "#the companies_table has 11 columns and 6 rows\n",
    "#the imdb_table has 10 columns and 30 rows\n",
    "#the users_10_days_table has 7 columns and 6 rows\n",
    "#the instgram_posts_table has 6 columns and 283 rows"
   ]
  },
  {
   "cell_type": "code",
   "execution_count": 2,
   "metadata": {},
   "outputs": [],
   "source": [
    "#import libraries\n",
    "import csv\n",
    "import pandas as pd\n",
    "import json\n",
    "import sqlite3"
   ]
  },
  {
   "cell_type": "code",
   "execution_count": 3,
   "metadata": {},
   "outputs": [],
   "source": [
    "#input mutiple csv files into dataframe \n",
    "director_df = pd.read_csv(\"directors.csv\")\n",
    "company_df = pd.read_csv('companys.csv')\n",
    "imdb_df = pd.read_csv('imdblist.csv')\n",
    "instposts_df = pd.read_csv('instposts.csv')\n",
    "user_10_df = pd.read_csv('user_10days.csv')"
   ]
  },
  {
   "cell_type": "code",
   "execution_count": 4,
   "metadata": {},
   "outputs": [],
   "source": [
    "#transfer dataframe into list form\n",
    "director_list = director_df.values.tolist()\n",
    "company_list = company_df.values.tolist()\n",
    "imdb_list = imdb_df.values.tolist()\n",
    "instposts_list = instposts_df.values.tolist()\n",
    "user_10_list = user_10_df.values.tolist()"
   ]
  },
  {
   "cell_type": "code",
   "execution_count": 5,
   "metadata": {},
   "outputs": [],
   "source": [
    "#connect to database if exist, create a db file if doesn't exist \n",
    "con = sqlite3.connect('assignment2.db')"
   ]
  },
  {
   "cell_type": "code",
   "execution_count": 6,
   "metadata": {},
   "outputs": [],
   "source": [
    "#create a cursor for next operation\n",
    "c = con.cursor()"
   ]
  },
  {
   "cell_type": "code",
   "execution_count": 7,
   "metadata": {},
   "outputs": [
    {
     "data": {
      "text/plain": [
       "<sqlite3.Cursor at 0x2a352a86570>"
      ]
     },
     "execution_count": 7,
     "metadata": {},
     "output_type": "execute_result"
    }
   ],
   "source": [
    "#create a table named directors\n",
    "c.execute(\"\"\"CREATE TABLE directors(\n",
    "                   id INTEGER(20),\n",
    "                   name VARCHAR(255)  PRIMARY KEY,\n",
    "                   screen_name VARCHAR(255),\n",
    "                   location VARCHAR(255),\n",
    "                   description VARCHAR(255),\n",
    "                   url VARCHAR(255),\n",
    "                   followers_count INTEGER(20),\n",
    "                   friends_count INTEGER(20),\n",
    "                   listed_count INTEGER(20),\n",
    "                   created_at DATE(20),\n",
    "                   favourites_count INTEGER(20),\n",
    "                   CONSTRAINT name_uni UNIQUE (id,screen_name)\n",
    "                   )\"\"\")"
   ]
  },
  {
   "cell_type": "code",
   "execution_count": 8,
   "metadata": {},
   "outputs": [
    {
     "data": {
      "text/plain": [
       "<sqlite3.Cursor at 0x2a352a86570>"
      ]
     },
     "execution_count": 8,
     "metadata": {},
     "output_type": "execute_result"
    }
   ],
   "source": [
    "#create a table named companies\n",
    "c.execute(\"\"\"CREATE TABLE companies(\n",
    "                   id INTEGER(20),\n",
    "                   name VARCHAR(255)  PRIMARY KEY,\n",
    "                   screen_name VARCHAR(255),\n",
    "                   location VARCHAR(255),\n",
    "                   description VARCHAR(255),\n",
    "                   url VARCHAR(255),\n",
    "                   followers_count INTEGER(20),\n",
    "                   friends_count INTEGER(20),\n",
    "                   listed_count INTEGER(20),\n",
    "                   created_at DATE(20),\n",
    "                   favourites_count INTEGER(20), \n",
    "                   CONSTRAINT name_uni UNIQUE(id,screen_name)\n",
    "                   )\"\"\")"
   ]
  },
  {
   "cell_type": "code",
   "execution_count": 9,
   "metadata": {},
   "outputs": [
    {
     "data": {
      "text/plain": [
       "<sqlite3.Cursor at 0x2a352a86570>"
      ]
     },
     "execution_count": 9,
     "metadata": {},
     "output_type": "execute_result"
    }
   ],
   "source": [
    "#create a table named imdb\n",
    "c.execute(\"\"\"CREATE TABLE imdb(\n",
    "                         movie_names VARCHAR(255) PRIMARY KEY,\n",
    "                         year_release VARCHAR(255),\n",
    "                         imdb_ratings FLOAT(10,1),\n",
    "                         metascores INTEGER(20),\n",
    "                         votes INTEGER(20),\n",
    "                         certificate VARCHAR(255),\n",
    "                         runtime VARCHAR(255),\n",
    "                         director_name VARCHAR(255),\n",
    "                         gross_value VARCHAR(255),\n",
    "                         company VARCHAR(255)\n",
    "                         )\"\"\")"
   ]
  },
  {
   "cell_type": "code",
   "execution_count": 10,
   "metadata": {},
   "outputs": [
    {
     "data": {
      "text/plain": [
       "<sqlite3.Cursor at 0x2a352a86570>"
      ]
     },
     "execution_count": 10,
     "metadata": {},
     "output_type": "execute_result"
    }
   ],
   "source": [
    "#create a table named instposts\n",
    "c.execute(\"\"\"CREATE TABLE instposts(\n",
    "                            user_name VARCHAR(255),\n",
    "                            user_id INTEGER(20),\n",
    "                            post_context VARCHAR(255),\n",
    "                            likes INTEGER(20),\n",
    "                            comments INERGER(20),\n",
    "                            movie_name VARCHAR(255)\n",
    "                            )\"\"\")"
   ]
  },
  {
   "cell_type": "code",
   "execution_count": 11,
   "metadata": {},
   "outputs": [
    {
     "data": {
      "text/plain": [
       "<sqlite3.Cursor at 0x2a352a86570>"
      ]
     },
     "execution_count": 11,
     "metadata": {},
     "output_type": "execute_result"
    }
   ],
   "source": [
    "#create a table named user_10days\n",
    "c.execute(\"\"\"CREATE TABLE user_10days(\n",
    "                                user_id INTEGER(20),\n",
    "                                user VARCHAR(255) PRIMARY KEY,\n",
    "                                date DATE(20) ,\n",
    "                                post VARCHAR(255),\n",
    "                                likes INTEGER(20),\n",
    "                                comments INTEGER(20),\n",
    "                                post_num INTEGER(20),\n",
    "                                CONSTRAINT name_uni UNIQUE (user_id)\n",
    "                                )\"\"\")"
   ]
  },
  {
   "cell_type": "code",
   "execution_count": 12,
   "metadata": {},
   "outputs": [
    {
     "data": {
      "text/plain": [
       "<sqlite3.Cursor at 0x2a352a86570>"
      ]
     },
     "execution_count": 12,
     "metadata": {},
     "output_type": "execute_result"
    }
   ],
   "source": [
    "#insert data from user_10_list into table user_10days\n",
    "c.executemany(\"\"\"INSERT INTO user_10days VALUES(?,?,?,?,?,?,?)\"\"\", user_10_list)"
   ]
  },
  {
   "cell_type": "code",
   "execution_count": 13,
   "metadata": {},
   "outputs": [
    {
     "data": {
      "text/plain": [
       "<sqlite3.Cursor at 0x2a352a86570>"
      ]
     },
     "execution_count": 13,
     "metadata": {},
     "output_type": "execute_result"
    }
   ],
   "source": [
    "#insert data from instposts_list into table instposts\n",
    "c.executemany(\"\"\"INSERT INTO instposts VALUES(?,?,?,?,?,?)\"\"\", instposts_list)"
   ]
  },
  {
   "cell_type": "code",
   "execution_count": 14,
   "metadata": {},
   "outputs": [
    {
     "data": {
      "text/plain": [
       "<sqlite3.Cursor at 0x2a352a86570>"
      ]
     },
     "execution_count": 14,
     "metadata": {},
     "output_type": "execute_result"
    }
   ],
   "source": [
    "#insert data from imdb_list into table imdb\n",
    "c.executemany(\"\"\"INSERT INTO imdb VALUES(?,?,?,?,?,?,?,?,?,?)\"\"\", imdb_list)"
   ]
  },
  {
   "cell_type": "code",
   "execution_count": 15,
   "metadata": {},
   "outputs": [
    {
     "data": {
      "text/plain": [
       "<sqlite3.Cursor at 0x2a352a86570>"
      ]
     },
     "execution_count": 15,
     "metadata": {},
     "output_type": "execute_result"
    }
   ],
   "source": [
    "#insert data from company_list into table companies\n",
    "c.executemany(\"\"\"INSERT INTO companies VALUES(?,?,?,?,?,?,?,?,?,?,?)\"\"\", company_list)"
   ]
  },
  {
   "cell_type": "code",
   "execution_count": 16,
   "metadata": {},
   "outputs": [
    {
     "data": {
      "text/plain": [
       "<sqlite3.Cursor at 0x2a352a86570>"
      ]
     },
     "execution_count": 16,
     "metadata": {},
     "output_type": "execute_result"
    }
   ],
   "source": [
    "#insert data from director_list into table directors\n",
    "c.executemany(\"\"\"INSERT INTO directors VALUES(?,?,?,?,?,?,?,?,?,?,?)\"\"\", director_list)"
   ]
  },
  {
   "cell_type": "code",
   "execution_count": 17,
   "metadata": {},
   "outputs": [
    {
     "data": {
      "text/plain": [
       "<sqlite3.Cursor at 0x2a352a86570>"
      ]
     },
     "execution_count": 17,
     "metadata": {},
     "output_type": "execute_result"
    }
   ],
   "source": [
    "#test: select all from table companies\n",
    "c.execute(\"\"\"SELECT * FROM companies\"\"\")"
   ]
  },
  {
   "cell_type": "code",
   "execution_count": 18,
   "metadata": {},
   "outputs": [
    {
     "name": "stdout",
     "output_type": "stream",
     "text": [
      "(67418441, 'Disney', 'Disney', None, 'The official Twitter for Disney. Don’t miss a minute of the magic.', 'https://t.co/m5jwysh10i', 6005860, 70, 14239, 'Thu Aug 20 20:40:59 +0000 2009', 97)\n",
      "(20255162, 'Warner Bros. Pictures', 'wbpictures', 'Burbank, CA', 'Welcome to the official Twitter page for Warner Bros. Pictures.', 'https://t.co/UybwojdG9g', 4009578, 872, 12526, 'Fri Feb 06 17:46:43 +0000 2009', 251)\n",
      "(14497313, 'Sony Pictures', 'SonyPictures', 'Culver City, CA', 'Welcome to the Official Twitter Page for Sony Pictures. Watch trailers and more at https://t.co/tq22VQHHYG!', 'https://t.co/XlLdXRxLeO', 2319541, 7353, 11026, 'Wed Apr 23 17:21:46 +0000 2008', 2784)\n",
      "(203162990, '20th Century Fox', '20thcenturyfox', None, 'Welcome to the Official Twitter page for 20th Century Fox.', 'https://t.co/I7lVXRTxXG', 3731329, 1729, 5979, 'Fri Oct 15 17:31:08 +0000 2010', 2015)\n",
      "(21904217, 'Universal Pictures', 'UniversalPics', 'Universal City, CA', 'Welcome to Universal Pictures via Twitter!', 'https://t.co/eTvzPqlLRp', 3644579, 700, 10114, 'Wed Feb 25 19:14:14 +0000 2009', 4373)\n",
      "(15291335, 'Paramount Pictures', 'ParamountPics', 'Hollywood, CA ', 'Welcome to the Official Twitter Page for Paramount Pictures.', 'http://t.co/xC2j6qgTBo', 2823138, 9356, 10037, 'Tue Jul 01 19:53:49 +0000 2008', 1253)\n"
     ]
    }
   ],
   "source": [
    "#output the result\n",
    "for row in c.fetchall():\n",
    "    print(row)"
   ]
  },
  {
   "cell_type": "code",
   "execution_count": 19,
   "metadata": {},
   "outputs": [
    {
     "data": {
      "text/plain": [
       "<sqlite3.Cursor at 0x2a352a86570>"
      ]
     },
     "execution_count": 19,
     "metadata": {},
     "output_type": "execute_result"
    }
   ],
   "source": [
    "#use_case_1) find all the movies' names and their runtime with runtime from 120min to 129min \n",
    "c.execute(\"\"\"SELECT movie_names , runtime FROM imdb WHERE runtime LIKE '12_%'\"\"\")"
   ]
  },
  {
   "cell_type": "code",
   "execution_count": 20,
   "metadata": {},
   "outputs": [
    {
     "name": "stdout",
     "output_type": "stream",
     "text": [
      "('Alita: Battle Angel', '122 min')\n",
      "('Widows', '129 min')\n",
      "('Glass', '129 min')\n",
      "('Mortal Engines', '128 min')\n"
     ]
    }
   ],
   "source": [
    "#use_case_1) output\n",
    "for row in c.fetchall():\n",
    "    print(row)"
   ]
  },
  {
   "cell_type": "code",
   "execution_count": 21,
   "metadata": {},
   "outputs": [
    {
     "data": {
      "text/plain": [
       "<sqlite3.Cursor at 0x2a352a86570>"
      ]
     },
     "execution_count": 21,
     "metadata": {},
     "output_type": "execute_result"
    }
   ],
   "source": [
    "#use_case_2) find all the movies with gross value between 100,00,000 and 199,999,999\n",
    "c.execute(\"\"\"SELECT movie_names FROM imdb WHERE gross_value LIKE '1__,%,%' \"\"\")"
   ]
  },
  {
   "cell_type": "code",
   "execution_count": 22,
   "metadata": {},
   "outputs": [
    {
     "name": "stdout",
     "output_type": "stream",
     "text": [
      "('Creed II',)\n",
      "('Fantastic Beasts: The Crimes of Grindelwald',)\n",
      "('Spider-Man: Into the Spider-Verse',)\n",
      "('Ready Player One',)\n",
      "('The Greatest Showman',)\n",
      "('Glass',)\n",
      "('A Quiet Place',)\n",
      "('Ralph Breaks the Internet',)\n"
     ]
    }
   ],
   "source": [
    "#use_case_2) output\n",
    "for row in c.fetchall():\n",
    "    print(row)"
   ]
  },
  {
   "cell_type": "code",
   "execution_count": 23,
   "metadata": {},
   "outputs": [
    {
     "data": {
      "text/plain": [
       "<sqlite3.Cursor at 0x2a352a86570>"
      ]
     },
     "execution_count": 23,
     "metadata": {},
     "output_type": "execute_result"
    }
   ],
   "source": [
    "#use_case_3 find all the movies that came out in year 2017\n",
    "c.execute(\"\"\"SELECT movie_names FROM imdb WHERE year_release LIKE '%2017%'\"\"\")"
   ]
  },
  {
   "cell_type": "code",
   "execution_count": 24,
   "metadata": {},
   "outputs": [
    {
     "name": "stdout",
     "output_type": "stream",
     "text": [
      "('Jumanji: Welcome to the Jungle',)\n",
      "('The Greatest Showman',)\n"
     ]
    }
   ],
   "source": [
    "#use_case_3) output\n",
    "for row in c.fetchall():\n",
    "    print(row)"
   ]
  },
  {
   "cell_type": "code",
   "execution_count": 25,
   "metadata": {},
   "outputs": [
    {
     "data": {
      "text/plain": [
       "<sqlite3.Cursor at 0x2a352a86570>"
      ]
     },
     "execution_count": 25,
     "metadata": {},
     "output_type": "execute_result"
    }
   ],
   "source": [
    "#use_case_4) find all the 20thcenturyfox produced movies\n",
    "c.execute(\"\"\"SELECT movie_names FROM imdb WHERE company LIKE '20th%fox'\"\"\")"
   ]
  },
  {
   "cell_type": "code",
   "execution_count": 26,
   "metadata": {},
   "outputs": [
    {
     "name": "stdout",
     "output_type": "stream",
     "text": [
      "('Alita: Battle Angel',)\n",
      "('Bohemian Rhapsody',)\n",
      "('Deadpool 2',)\n",
      "('Widows',)\n",
      "('The Greatest Showman',)\n"
     ]
    }
   ],
   "source": [
    "#use_case_4) output\n",
    "for row in c.fetchall():\n",
    "    print(row)"
   ]
  },
  {
   "cell_type": "code",
   "execution_count": 27,
   "metadata": {},
   "outputs": [
    {
     "data": {
      "text/plain": [
       "<sqlite3.Cursor at 0x2a352a86570>"
      ]
     },
     "execution_count": 27,
     "metadata": {},
     "output_type": "execute_result"
    }
   ],
   "source": [
    "#use_case_5) find all the disney produced movies with a metascore higher or equal to eighty\n",
    "c.execute(\"\"\"SELECT movie_names FROM imdb WHERE metascores >= 80 AND company LIKE 'disney'\"\"\")"
   ]
  },
  {
   "cell_type": "code",
   "execution_count": 28,
   "metadata": {},
   "outputs": [
    {
     "name": "stdout",
     "output_type": "stream",
     "text": [
      "('Incredibles 2',)\n",
      "('Black Panther',)\n"
     ]
    }
   ],
   "source": [
    "#use_case_5) output\n",
    "for row in c.fetchall():\n",
    "    print(row)"
   ]
  },
  {
   "cell_type": "code",
   "execution_count": 29,
   "metadata": {},
   "outputs": [
    {
     "data": {
      "text/plain": [
       "<sqlite3.Cursor at 0x2a352a86570>"
      ]
     },
     "execution_count": 29,
     "metadata": {},
     "output_type": "execute_result"
    }
   ],
   "source": [
    "#use_case_6) find all the movies with votes more than or equal to 300,000 and imdbratings higher than 7.0\n",
    "c.execute(\"\"\"SELECT  movie_names , director_name , company FROM imdb WHERE votes >= 300000 AND imdb_ratings > 7.0\"\"\")"
   ]
  },
  {
   "cell_type": "code",
   "execution_count": 30,
   "metadata": {},
   "outputs": [
    {
     "name": "stdout",
     "output_type": "stream",
     "text": [
      "('Deadpool 2', 'David Leitch', '20thcenturyfox')\n",
      "('How to Train Your Dragon', 'Dean DeBlois', 'ParamountPics')\n",
      "('Black Panther', 'Ryan Coogler', 'disney')\n"
     ]
    }
   ],
   "source": [
    "#use_case_6) output\n",
    "for row in c.fetchall():\n",
    "    print(row)"
   ]
  },
  {
   "cell_type": "code",
   "execution_count": 31,
   "metadata": {},
   "outputs": [
    {
     "data": {
      "text/plain": [
       "<sqlite3.Cursor at 0x2a352a86570>"
      ]
     },
     "execution_count": 31,
     "metadata": {},
     "output_type": "execute_result"
    }
   ],
   "source": [
    "#use_case_7) get all the movies, their gross, their metascores in order of metascores, decreasingly\n",
    "c.execute(\"\"\"SELECT movie_names , gross_value , metascores FROM imdb ORDER BY metascores DESC\"\"\")"
   ]
  },
  {
   "cell_type": "code",
   "execution_count": 32,
   "metadata": {},
   "outputs": [
    {
     "name": "stdout",
     "output_type": "stream",
     "text": [
      "('A Star Is Born', '211,029,339', 88)\n",
      "('Black Panther', '700,059,566', 88)\n",
      "('Spider-Man: Into the Spider-Verse', '185,286,210', 87)\n",
      "('Widows', '42,402,632', 84)\n",
      "('A Quiet Place', '188,024,361', 82)\n",
      "('Incredibles 2', '608,581,744', 80)\n",
      "('The Edge of Seventeen', '14,260,193', 77)\n",
      "('How to Train Your Dragon', '217,581,231', 74)\n",
      "('How to Train Your Dragon: The Hidden World', '67,650,275', 71)\n",
      "('Ralph Breaks the Internet', '199,962,690', 71)\n",
      "('Green Book', '71,209,611', 69)\n",
      "('Creed II', '115,696,014', 66)\n",
      "('Deadpool 2', '324,591,735', 66)\n",
      "('The Lego Movie 2: The Second Part', '85,060,040', 65)\n",
      "('Ready Player One', '137,690,172', 64)\n",
      "('Solo: A Star Wars Story', '213,767,512', 62)\n",
      "(\"Isn't It Romantic\", '35,654,003', 60)\n",
      "('Overlord', '21,704,844', 60)\n",
      "('Jumanji: Welcome to the Jungle', '404,515,480', 58)\n",
      "('Happy Death Day 2U', '22,766,610', 57)\n",
      "('Instant Family', '67,363,237', 57)\n",
      "('Alita: Battle Angel', '65,231,308', 54)\n",
      "('Fantastic Beasts: The Crimes of Grindelwald', '159,555,901', 52)\n",
      "('Bohemian Rhapsody', '213,491,597', 49)\n",
      "('What Men Want', '46,941,004', 49)\n",
      "('The Greatest Showman', '174,340,174', 48)\n",
      "('The Mighty Ducks', '50,752,337', 46)\n",
      "('Mortal Engines', '15,951,040', 44)\n",
      "('Glass', '108,570,250', 42)\n",
      "('Venom', '213,515,506', 35)\n"
     ]
    }
   ],
   "source": [
    "#use_case_7) output\n",
    "for row in c.fetchall():\n",
    "    print(row)"
   ]
  },
  {
   "cell_type": "code",
   "execution_count": 33,
   "metadata": {},
   "outputs": [
    {
     "data": {
      "text/plain": [
       "<sqlite3.Cursor at 0x2a352a86570>"
      ]
     },
     "execution_count": 33,
     "metadata": {},
     "output_type": "execute_result"
    }
   ],
   "source": [
    "#Answer to partII question a) What user posted this?\n",
    "#use_case_8) get the user's name and the hashtag/keywords of the posts which related movie's producer is 20thcenturyfox company and their hashtags/keywords also exist in movie_name of imdb table\n",
    "c.execute(\"\"\"SELECT instposts.user_name , instposts.likes , imdb.movie_names FROM instposts,imdb WHERE imdb.movie_names = instposts.movie_name AND imdb.company LIKE \"20th%\" \"\"\")"
   ]
  },
  {
   "cell_type": "code",
   "execution_count": 34,
   "metadata": {},
   "outputs": [
    {
     "name": "stdout",
     "output_type": "stream",
     "text": [
      "('uwuparkers', 3, 'The Greatest Showman')\n",
      "('madnssedits', 3, 'The Greatest Showman')\n",
      "('hughsheart', 79, 'The Greatest Showman')\n",
      "('barryfreemanphotography', 16, 'The Greatest Showman')\n",
      "('hughsheart', 96, 'The Greatest Showman')\n",
      "('barryfreemanphotography', 15, 'The Greatest Showman')\n",
      "('barryfreemanphotography', 20, 'The Greatest Showman')\n",
      "('barryfreemanphotography', 14, 'The Greatest Showman')\n",
      "('whovianandmore', 14, 'The Greatest Showman')\n",
      "('hughsheart', 181, 'The Greatest Showman')\n",
      "('ninocinemaholic', 5, 'Widows')\n",
      "('thesearesomegoodshots', 51, 'Widows')\n",
      "('cinestudiodor', 29, 'Widows')\n",
      "('_royal_gallery__', 52, 'Widows')\n",
      "('iammookaxbrook', 51, 'Widows')\n",
      "('realgoodmovies', 39, 'Widows')\n",
      "('toymasterrob', 36, 'Widows')\n",
      "('nagarjunafluent', 74, 'Widows')\n",
      "('cliff_babbit', 34, 'Widows')\n",
      "('cliff_babbit', 22, 'Widows')\n",
      "('demonic.lucifer', 347, 'Deadpool 2')\n",
      "('lonely._pluto', 13, 'Deadpool 2')\n",
      "('demonic.lucifer', 1839, 'Deadpool 2')\n",
      "('ironstrangexitaly', 4, 'Deadpool 2')\n",
      "('deadpoolmanstagram', 0, 'Deadpool 2')\n",
      "('voixdz', 339, 'Deadpool 2')\n",
      "('freakymulti', 40, 'Deadpool 2')\n",
      "('koneko_edits', 20, 'Deadpool 2')\n",
      "('thundermutant', 171, 'Deadpool 2')\n",
      "('legend_of_deadpool', 23, 'Deadpool 2')\n",
      "('nursusmeeta', 19, 'Bohemian Rhapsody')\n",
      "('carlosnaranjomusic', 29, 'Bohemian Rhapsody')\n",
      "('whoisishan', 71, 'Bohemian Rhapsody')\n",
      "('pelinsinging', 133, 'Bohemian Rhapsody')\n",
      "('tjdafuturerockstar', 28, 'Bohemian Rhapsody')\n",
      "('oscarcurrostraductor', 77, 'Bohemian Rhapsody')\n",
      "('voiceofmaximilian', 778, 'Bohemian Rhapsody')\n",
      "('humourjunkie', 14, 'Bohemian Rhapsody')\n",
      "('tannercruse', 38, 'Bohemian Rhapsody')\n",
      "('cometzfly.msuics', 32, 'Bohemian Rhapsody')\n"
     ]
    }
   ],
   "source": [
    "#use_case_8) output\n",
    "for row in c.fetchall():\n",
    "    print(row)"
   ]
  },
  {
   "cell_type": "code",
   "execution_count": 35,
   "metadata": {},
   "outputs": [
    {
     "data": {
      "text/plain": [
       "<sqlite3.Cursor at 0x2a352a86570>"
      ]
     },
     "execution_count": 35,
     "metadata": {},
     "output_type": "execute_result"
    }
   ],
   "source": [
    "#Answer to PART II question e) What keywords/ hashtags are popular?\n",
    "#use_case_9 get the likes and related keywords/hashtags which likes is bigger than 1000 and the hashtags/keywords are the same as the movie_name in imdb table\n",
    "c.execute(\"\"\"SELECT  instposts.likes , instposts.movie_name FROM instposts,imdb WHERE imdb.movie_names = instposts.movie_name AND instposts.likes > 1000 \"\"\")"
   ]
  },
  {
   "cell_type": "code",
   "execution_count": 36,
   "metadata": {},
   "outputs": [
    {
     "name": "stdout",
     "output_type": "stream",
     "text": [
      "(4604, 'Ralph Breaks the Internet')\n",
      "(3371, 'Ralph Breaks the Internet')\n",
      "(2130, 'A Quiet Place')\n",
      "(2533, 'Mortal Engines')\n",
      "(1839, 'Deadpool 2')\n",
      "(2139, 'Creed II')\n"
     ]
    }
   ],
   "source": [
    "#use_case_9 output\n",
    "for row in c.fetchall():\n",
    "    print(row)"
   ]
  },
  {
   "cell_type": "code",
   "execution_count": 37,
   "metadata": {},
   "outputs": [
    {
     "data": {
      "text/plain": [
       "<sqlite3.Cursor at 0x2a352a86570>"
      ]
     },
     "execution_count": 37,
     "metadata": {},
     "output_type": "execute_result"
    }
   ],
   "source": [
    "#use_case_9 get all thte post_context and post_likes with their hashtags/keywords are the same as the movie name in imdb table and the hashtag/keyword is \"Venom\"\n",
    "c.execute(\"\"\"SELECT  instposts.likes ,instposts.post_context, imdb.movie_names FROM instposts,imdb WHERE imdb.movie_names = instposts.movie_name AND instposts.movie_name LIKe '%Venom%' \"\"\")"
   ]
  },
  {
   "cell_type": "code",
   "execution_count": 38,
   "metadata": {},
   "outputs": [
    {
     "name": "stdout",
     "output_type": "stream",
     "text": [
      "(10, '\"Nooo!!\" #venom #venomedit #marvel #marveledits #marvelshots', 'Venom')\n",
      "(17, '\"Where is he!?\"\\r\\r\\n\"Agh, Gawd!\"\\r\\r\\n\"Where\\'s Venom!!\"\\r\\r\\n#venom #venomedit #marvel #marveledits #symbiote #riot #marvelshots #spiderman', 'Venom')\n",
      "(12, '\"Gaaaargh!\"\\r\\r\\n#venom #venomedit #marvel #marveledits #symbiote #riot', 'Venom')\n",
      "(17, '\"Mask!\"\\r\\r\\n\"ÇØPŶ!\"\\r\\r\\n#venom #venomedit #marvel #marveledits #symbiote', 'Venom')\n",
      "(19, 'Damn, Bulletproof indeed!!\\r\\r\\n.\\r\\r\\n#venom #venomedit #symbiote #marvel #marveledits', 'Venom')\n",
      "(18, \"Çekimler 2019 Kasım'da başlıyor. Film ise 2 Ekim 2020'de çıkacak.\\r\\r\\n\\r\\r\\n#venom #venom2 #venomedit #spiderman #örümcekadam #tomhardy #marvel #sony #movie #film #filmreplikleri #movies #moviescenes #sinema #cinema #tobeymaguire @tomhardy @venommovie\", 'Venom')\n",
      "(19, '\"Goodbye, Eddie..\"\\r\\r\\n\"Venom, No!!\"\\r\\r\\n#venom #venomedit #symbiote #marvel #marveledits #gooboi', 'Venom')\n",
      "(13, 'Riot Burns!!\\r\\r\\n#riot #venom #venomedit #movie #marvel #marveledits', 'Venom')\n",
      "(15, '\"Traitor!\"\\r\\r\\n\"Have a Nice Life!\"\\r\\r\\n*yeets*\\r\\r\\n#venom #venomedit #marvel #marveledits #symbiote #riot', 'Venom')\n",
      "(18, 'Venom..\\r\\r\\n#venomedit #venom #symbiote #marvel #marveledits', 'Venom')\n"
     ]
    }
   ],
   "source": [
    "#use_case_9 output\n",
    "for row in c.fetchall():\n",
    "    print(row)"
   ]
  },
  {
   "cell_type": "code",
   "execution_count": 39,
   "metadata": {},
   "outputs": [
    {
     "data": {
      "text/plain": [
       "<sqlite3.Cursor at 0x2a352a86570>"
      ]
     },
     "execution_count": 39,
     "metadata": {},
     "output_type": "execute_result"
    }
   ],
   "source": [
    "#use_case_10 get all the user_name,post_context if the hashkeys/kewords appear in the movie_name of imdb table and the related movies' release year is 2019\n",
    "c.execute(\"\"\"SELECT  instposts.user_name ,instposts.post_context, imdb.movie_names FROM instposts,imdb WHERE imdb.movie_names = instposts.movie_name AND imdb.year_release LIKE '%2019%'  \"\"\")"
   ]
  },
  {
   "cell_type": "code",
   "execution_count": 40,
   "metadata": {},
   "outputs": [
    {
     "name": "stdout",
     "output_type": "stream",
     "text": [
      "('jwali_wali', 'I’m just the mailman ! You got mail 📧 from #MrT\\r\\r\\n#mashallah #itbelikethat \\r\\r\\n#unpleasanttruths #potential \\r\\r\\n#motivation #whatmenwantmovie #beard #motivationalspeaker #life \\r\\r\\n#inspirational #leadership #wrongdoers \\r\\r\\n#hood #inshallah #greatness #grateful \\r\\r\\n#handsome #potential', 'What Men Want')\n",
      "('whatsimonsseen', 'Out tonight for the @cineworld screening of @whatmenwant. What are your expectations of the gender-swapped remake?\\r\\r\\n• • • • •\\r\\r\\n#movies #movie #film #films #cinema #movietime #filmreview #moviereview #whatmenwant #comedy #tarajiphenson #whatmenwantmovie #whatwomenwant', 'What Men Want')\n",
      "('jwali_wali', 'I’m just the mailman ! You got mail 📧 \\r\\r\\n#mashallah #itbelikethat \\r\\r\\n#unpleasanttruths #potential \\r\\r\\n#motivation #whatmenwantmovie #beard #motivationalspeaker #life \\r\\r\\n#inspirational #leadership #wrongdoers \\r\\r\\n#hood #inshallah #greatness #grateful \\r\\r\\n#handsome #potential', 'What Men Want')\n",
      "('jciibadanelite', 'We cannot keep silent, Ibadan are you ready? This is an amazing opportunity for you to hangout with the elite and just have fun. You do not want to miss it for the world. Good news is, we have free tickets up for grabs, so what are you waiting for? Get your popcorn and come join us to relax and have fun. #jci #jcinigeria #jciibadanelite #whatmenwant #whatmenwantmovie  @jci_nigeria @jcinews @jciibadan @jcioluyole @filmhousecinemas @filmoneng', 'What Men Want')\n",
      "('tsholothulare', 'Nice Movie...\\r\\r\\n#whatmenwantmovie\\r\\r\\n#whatmenwantmovie2019', 'What Men Want')\n",
      "('patience_lacoste', 'Never a dull moment with these girlfriends❤❤❤❤❤❤❤❤\\r\\r\\n#whatmenwantmovie', 'What Men Want')\n",
      "('thatisaleekochick', \"Before anything else, I’d like to note that the film WHAT MEN WANT was way more than I expected, and Taraji P. Henson played the heck out of her ‘Ali Davis' role. Oh dang! I’m still recovering from her bants with ‘Sister’ the psychic played by Erykah Badu. . . .\\r\\r\\n\\r\\r\\nWHAT MEN WANT basically tells the story of ‘Ali Davis’ who is boxed out by the male sports agents in her profession, but gains an unexpected edge over them when she develops the ability to ‘hear their thoughts’ thanks to a session with a mysterious tea-bearing psychic named ‘Sister.’ . . .\\r\\r\\n\\r\\r\\nWhile I’m not a fan of the rather confusing and unbalanced storytelling here, my succour really is Taraji’s hilarious and graceful performance which gets me rooting for Ali Davis' character even in her worst moments. I could mention so many scenes where she totally delivered like a ‘badass’ that she truly is, chief of which is the ‘condom on the skirt moment’. I honestly won’t forget this movie and some of its profound messages in a hurry, but I most definitely would have preferred if it wasn’t as long and draggy as it ended up being. . . .\\r\\r\\n\\r\\r\\nNevertheless, I am totally here for Ms. Henson’s performance and Erykah Badu’s effortless charm as the ‘weed dealing fortune teller’. These right here are the reasons you should see WHAT MEN WANT! . . .\\r\\r\\n\\r\\r\\nP.S.\\xa0 Just between us, where in Nigeria can I get that mysterious world famous tea? I really would like to hear men’s thoughts. Oh! Sorry, I’m actually just asking for a friend. Plus I need me a PA like ... Tap link in my bio to read full review!\\r\\r\\n\\r\\r\\n#movie #review #cinema #wce #filmhousecinemas #tarajiphenson\\r\\r\\n#whatmenwantmovie #hollywood\\r\\r\\n#instagramblog #bloggersofinstagram #nigerianblogger #sundayfunday\\r\\r\\n#thatisaleekochick\", 'What Men Want')\n",
      "('jwali_wali', 'I’m just a MailMan, you got mail ❗️\\r\\r\\n📧 \\r\\r\\n#mashallah #itbelikethat \\r\\r\\n#unpleasanttruths #potential \\r\\r\\n#motivation #whatmenwantmovie #imjustsaying #motivationalspeaker #life \\r\\r\\n#inspirational #leadership #wrongdoers \\r\\r\\n#hood #inshallah #greatness #grateful \\r\\r\\n#lifecoach #potential', 'What Men Want')\n",
      "('phaytea', 'About living ‘meaningfully’ yesterday😉🙏\\r\\r\\n•\\r\\r\\nIt was super Impromptu because I had other plans but once it got cancelled, I jumped on the Google Digital Skill Masterclass put together by @digitalskillsaf •\\r\\r\\nGlad it popped up on my feed and I saved the post. If you’re looking to add to your knowledge, go follow @digitalskillsaf so you don’t miss upcoming classes. I know there’s a YouTube masterclass coming up. They are also made cake available to celebrate International Women’s Day and I think it’s thoughtful (Love cakes💃🏼💃🏼)\\r\\r\\n•\\r\\r\\nBecause I work hard and play harder (ok not really,😂😂 except seeing a movie equates to playing harder🤦\\u200d♀️🤦\\u200d♀️), went off to watch ‘What Men Want’ and I totally recommend you see it whenever you’re at the cinema. Loved it 100% @tarajiphenson  always serves it HOT!!!\\r\\r\\n•\\r\\r\\nHave you watched What Men Want? How did you spend the weekend?\\r\\r\\n•\\r\\r\\n#Phaytea #MeaningfulLiving #MindfulChoices #IntentionalLiving #EnaTribe #GoogleDigitalSkills #GoogleDigitalSkillsForAfrica #DigitalEntrepreneur #ContentCreator #TbaTribe #PhayteasPulse #GoalSetting #TimeManagement #PrioritiesFirst #LagosBlogger #PersonalDevelopmentBlogger #DiscoverUnder2k #WhatMenWantMovie #WhatMenWant #MovieWeekend #TrainingWeekend #Selfcare #MentalHealthAwareness #NigerianBlogger', 'What Men Want')\n",
      "('levi_cruz_1', 'What men want 🎥 \\r\\r\\n#whatmenwantmovie #hoyts #moviedates #hayley #girlarvo #relaxing #popcorn #marypoppinsdrink #goodvibes #sundayfunday', 'What Men Want')\n",
      "('german_mcavoyers', '#tbt This picture is (still) E-P-I-C 😎 James McAvoy @jamesmcavoyrealdeal and Magnus Lygdback  @magnuslygdback during their training on the set of #glassmovie #beastmode \\r\\r\\n______\\r\\r\\n\\r\\r\\n#Repost and Credit to @magnuslygdback \\r\\r\\nStill thankful you shared this with us! 😉\\r\\r\\n\\r\\r\\n______\\r\\r\\n\\r\\r\\n#jamesmcavoyrealdeal #jamesmcavoy #mcavoy #mcavoyers #mcavoyeurs #germanmcavoyers #mcavoyfans #HappinessIsBeingaMcAvoyer #jamesmcavoymylove #mcavoyerandproud #mcavoyeurandproud #mcavoyerforever #fassavoy #maythejamesbewithyou #split #splitmovie #splitmovie2017 #anyataylorjoy #bettybuckley #lisaliberati #lisalibs #mnightshyamalan #glass #glassmovie #glassmovie2019 #brucewillis #samuelljackson', 'Glass')\n",
      "('anyatjoynews', 'THIS IS AMAZING WOW SO PROUD', 'Glass')\n",
      "('anyatjoynews', 'Another shot for @viktorandrolf_fragrances ♡ SO PROUD OF U @anyataylorjoy 💗✨', 'Glass')\n",
      "('anyatjoynews', \"Anya's shoot for @viktorandrolf_fragrances 😍\", 'Glass')\n",
      "('jamesmcavoy_1', 'glass | legends never die❤\\r\\r\\nkevin | david dann | mr. glass🌷\\r\\r\\n\\r\\r\\n@jamesmcavoyrealdeal ✨\\r\\r\\n@anyataylorjoy 🌹\\r\\r\\n@samuelljackson 🌠\\r\\r\\n@splitmovie ❤\\r\\r\\n@glassmovie 🐍\\r\\r\\n⠀\\r\\r\\n#anyataylorjoy #samuelljackson #brucewillis #jamesmcavoy #daviddann #jamesmcavoyrealdeal #james #mcavoy #james_mcavoy #jamesmcavoymovies #split2016 #split2017 #caseycooke #kevinwendellcrumb #dennis #patricia #hedwig #beast #glass #glassmovie #glassmovie2019 #umbreakable #umbreakablemovie #splitmovie #barry #glassedit #splitedit', 'Glass')\n",
      "('anyatjoynews', 'Anya for @crashmagazine 🌻', 'Glass')\n",
      "('grwoods0', \"#GlassMovie2019 was dope! A great way to end the 3rd installment in the #UnbreakableUniverse .  Also, Aiden thoroughly enjoyed both pulling and eating his sister's hair. 😂😂😂 #Unbreakable #Split #Glass #MightyMightyWoodsfam\", 'Glass')\n",
      "('patrizioandrea', 'Bei dem Wetter kann man nur ins Kino gehen. \"GLASS\"  #glassmoviefilming #glassmovieposter  #glassmoviesg #glassmoviedrawing #glassmovies #glassmovieslide #prilaga #glassmoviekc #glassmoviepremierenyc #glassmovieteasertrailer #glassmovie2019edit #glassmovieedits #glassmoviereview #glassmovie #glassmovienight #glassmovietrailer #glassmoviefanart #glassmovienycc #glassmoviereaction #glassmoviecast #glassmovieep #glassmovieedit #glassmovieteamsavage2019 #glassmoviehero #glassmoviepremiere #glassmoviequotes #glassmovie2019 #glassmovievillain #glassmoviestl #glassmovieart', 'Glass')\n",
      "('omnitmc28', 'I’m Watching Glass Movie With The Movie Theater Last Night!📽🎥🎞🎦🏥⛓ #GlassMovie #GlassMovie2019 #MovieNight #MovieTheater @glassmovie', 'Glass')\n",
      "('omnitmc27', 'Last Night I’m Watching Glass With The Movie Theater!🎥📽🎦🎞⛓🏥 #GlassMovie2019 #GlassMovie #MovieTheater #MovieNight @glassmovie', 'Glass')\n",
      "('abigasssmesh', 'Had enough clips to make another edit of them😌🤧💕 Enjoy.\\r\\r\\n.\\r\\r\\n.\\r\\r\\n.\\r\\r\\n.\\r\\r\\n.\\r\\r\\n.\\r\\r\\n.\\r\\r\\n.\\r\\r\\n.\\r\\r\\n.\\r\\r\\n.\\r\\r\\n.\\r\\r\\n#happydeathday #happydeathdayedit #happydeathday2 #happydeathday2uedit #carterandtree #otp #cuties', 'Happy Death Day 2U')\n",
      "('ellievedits', 'Repost bc my last vid got copyrighted 🙄\\r\\r\\n-\\r\\r\\n-\\r\\r\\n-\\r\\r\\n-\\r\\r\\n-\\r\\r\\n-\\r\\r\\n-\\r\\r\\n-\\r\\r\\n#tree #treegelbman #happydeathday #happydeathday2 #happydeathday2u #happydeathdayedit #treegelbmanedit #treeandcarter #treeandcarteredit #happydeathday2uedit #edit #edits #vs #videostar #vsedit #videostaredit', 'Happy Death Day 2U')\n",
      "('bellarketho', 'idc what the reviews say , watch happy death day 🤯💗\\r\\r\\nac clacesaudios\\r\\r\\nfc 419\\r\\r\\ndt ppl who ship them ❤️ ~\\r\\r\\n\\r\\r\\n#treeandcarter #treeandcarteredit #trarter #carterdavis #israelbroussard #jessicarothe #jessicarotheedit #israelbroussardedit #happydeathday', 'Happy Death Day 2U')\n",
      "('tgelbman', '🌳\\r\\r\\nso glad she slayed 2u..', 'Happy Death Day 2U')\n",
      "('xlustrode', '• tree gelbman👱🏼\\u200d♀️\\r\\r\\n————————————————————\\r\\r\\nugh love this bad bitch and I love the happy death day movies so much so I recommend you all go and watch them because they’re incredible!! Anyways enjoy this!!\\r\\r\\n————————————————————\\r\\r\\ncc: @lightningxdisaster \\r\\r\\ndt: @demonlvst', 'Happy Death Day 2U')\n",
      "('bellarketho', '// trigger warning // for suicide and murder ig 😬\\r\\r\\n[ sorry voiceovers are eh but there was horror / tension music playing i. half pf them 🤦🏼\\u200d♀️ . ]\\r\\r\\nac esoteric on sc\\r\\r\\nSHE DIED FOR HIM DO NOT DARE TELL ME THEY WERE FUXING PLATONIC ~\\r\\r\\n\\r\\r\\n#treeandcarter #treeandcarteredit #carterandtree #carterandtreeedit #auedit #auedits #treeandcarterau #carterandtreeau', 'Happy Death Day 2U')\n",
      "('blvssomfx', 'tree- “sorry, too many carbs!”\\r\\r\\ny’all should watch this movie\\r\\r\\n ac byersaudios\\r\\r\\ncc vspresets\\r\\r\\nsc rivxria\\r\\r\\n#happydeathdayedit #happydeathdayedits #happydeathday #happydeathday2u #happydeathday2uedit #happydeathdayedits #treegelbman #treegelbmanedit #treegelbmanedits #omgpage #omgedit #edit #edits #vsedit #vsedits #vspreset #vspreset #videostaredit #videostaredits #videostarpreset #videostarpresets #omgpageedit #explorarestart #battlestarrct #papillonrestart #champsrct2 #grungegrprct #splendarecruit3', 'Happy Death Day 2U')\n",
      "('starkxmerrell', \"Happy death day 2 u baby! I still need to go see it, hopefully it's good!\\r\\r\\nCredit:@lacuunas for this awesome edit!\\r\\r\\n-\\r\\r\\n-\\r\\r\\n-\\r\\r\\n@jessica_rothe #jessicarothe #jessicarotheedit #treeglebman #treegelbmanedit #happydeathday #happydeathdayedit #happydeathday2u #happydeathday2uedit #carterdavis #lorispengler #omg #horror #horrormovie #murderer #hot #hotaf #beautiful #badass #omgpage\", 'Happy Death Day 2U')\n",
      "('kingexplosionmvrder', 'happy death day 2 U was really good so i wanted to edit it- sorry its not bhna:) HHhhHshhsh \\r\\r\\nTHIS TOOK ME SO LONG plS DONT leT iT fLop\\r\\r\\n\\r\\r\\nac i forgot again :/\\r\\r\\ndt tagged\\r\\r\\ncc me\\r\\r\\n#happydeathday #happydeathday2u #happydeathdayedit #happydeathday2 #happydeathday2uedit #happydeathdaymovie #edit #edits #editz', 'Happy Death Day 2U')\n",
      "('pettymads', '♛\\r\\r\\n𝕥𝕙𝕖𝕪’𝕣𝕖 𝕤𝕠 𝕔𝕦𝕥𝕖 𝕤𝕚𝕘𝕙\\r\\r\\n𝚊𝚌 𝚕𝚞𝚌𝚒𝚎𝚜𝚏𝚒𝚕𝚖𝚜\\r\\r\\nfor cass only <3\\r\\r\\n[ #omgpage #explorepage #lilireinhart #jessicarothe #blakelively ]', 'Happy Death Day 2U')\n",
      "('priyankagraphics', \"Isn't It Romantic Premiere 🎀\\r\\r\\n✏ | @IAmNoyes\", \"Isn't It Romantic\")\n",
      "('priyankagraphics', \"Isn't It Romantic Premiere 🎀\\r\\r\\n✏ | @Lennie.DoodleDrawing\", \"Isn't It Romantic\")\n",
      "('bluetorrenthd', '#isntitromantic  #isntitromanticmovie  #isntitromanticpremiere  #isntitromanticlettering  #movies  #moviescenes  #moviestowatch  #moviestarplanet  #comedy  #comedyclub  #comedyvideo  #comedyvids', \"Isn't It Romantic\")\n",
      "('dalia.bd', 'Isn’t it Romantic #moviepremiere #redcarpet .\\r\\r\\n.\\r\\r\\n.\\r\\r\\nReally enjoyed this movie! Amazing plot and cast. Loved the idea behind it: a twist on romantic comedies; basically Deadpool meets rom-coms. If you haven’t seen it yet, what are you waiting for? \\r\\r\\n#movies #downtownla #justlathings #nickjonas #adamdevine #isntitromantic #isntitromanticmovie #isntitromanticpremiere #warnerbros', \"Isn't It Romantic\")\n",
      "('anniediamantidis', \"@tiarachel91 looks stunning at the premier of Isn't it Romantic in LA with Annie Handbags®️ Nyx clutch! \\r\\r\\nThank you @styledbylmc \\r\\r\\nAvailable at www.anniebags.com\\r\\r\\n\\r\\r\\n#AnnieHandbags #bachelor #bachelorinparadise #redcarpet #gratitude #isntitromanticpremiere #moviepremiere #LA\", \"Isn't It Romantic\")\n",
      "('nickyankadaily', 'NickYanka with a fan at the #IsntItRomanticPremiere 😍', \"Isn't It Romantic\")\n",
      "('tomxasher', 'his green eyes are so stunning 👀💚\\r\\r\\n-\\r\\r\\n-\\r\\r\\n#asherangel #greeneyes #hansome #isntitromantic #isntitromanticpremiere #moviepremiere', \"Isn't It Romantic\")\n",
      "('priyankagraphics', '💗\\r\\r\\nArtist ✒ | @ItsAleMomentCreative', \"Isn't It Romantic\")\n",
      "('priyanka_choprajonas', '@priyankachopra & @nickjonas with a fan at #IsntItRomanticPremiere 💖\\r\\r\\n.\\r\\r\\n.\\r\\r\\n.\\r\\r\\n#PriyankaChopra #Priyanka #PriyankaChopraJonas\\r\\r\\n#NickJonas #Quantico\\xa0 #PeeCee #Bollywood #Hollywood #IfICouldTellYouJustOneThing #MissWorld2000 #Queen #PiggyChops #Nickyanka #IsntItRomantic #love #NP #np_globaldomination #Bumble #TheSkyIsPink #Priyonce  #london #uk #unitedkingdom #queenofbollywood #jiju #desigirl #lovebirds', \"Isn't It Romantic\")\n",
      "('priyanka_choprajonas', 'Lovely as always 😍\\r\\r\\n#IsntItRomanticPremiere\\r\\r\\n.\\r\\r\\n.\\r\\r\\n.\\r\\r\\n@iamjavierg\\r\\r\\n#PriyankaChopra #Priyanka #PriyankaChopraJonas\\r\\r\\n#NickJonas #Quantico\\xa0 #PeeCee #Bollywood #Hollywood #IfICouldTellYouJustOneThing #MissWorld2000 #Queen #PiggyChops #Nickyanka #IsntItRomantic #love #NP #Bumble #london #couplesgoals #liamhemsworth #RebelWilson #queenofbollywood #jiju #desigirl #lovebirds', \"Isn't It Romantic\")\n"
     ]
    }
   ],
   "source": [
    "#use_case_10 output\n",
    "for row in c.fetchall():\n",
    "    print(row)"
   ]
  },
  {
   "cell_type": "code",
   "execution_count": 41,
   "metadata": {},
   "outputs": [
    {
     "data": {
      "text/plain": [
       "<sqlite3.Cursor at 0x2a352a86570>"
      ]
     },
     "execution_count": 41,
     "metadata": {},
     "output_type": "execute_result"
    }
   ],
   "source": [
    "#Answer to PART II question f) What posts are popular?\n",
    "#use_case_11 get the name, post and the hashtag/keywords of all posts that have likes > 500 and certificate is R-level and movie_name from table imdb as their hashtags/keywords\n",
    "c.execute(\"\"\"SELECT  instposts.user_name ,instposts.post_context, instposts.movie_name FROM instposts,imdb WHERE imdb.movie_names = instposts.movie_name AND imdb.certificate LIKE '%R%' AND instposts.likes > 500  \"\"\")"
   ]
  },
  {
   "cell_type": "code",
   "execution_count": 42,
   "metadata": {},
   "outputs": [
    {
     "name": "stdout",
     "output_type": "stream",
     "text": [
      "('demonic.lucifer', 'Deadpool 🔥\\r\\r\\n-\\r\\r\\nThe Best & worst Hero if you know what i mean\\r\\r\\n-\\r\\r\\nvc:crya.otiel\\r\\r\\n[#Mysterioscult]\\r\\r\\n#deadpool #wadewillson #ryanrenolds #deadpooledit #wadewillsonedit #deadpool2 #domino #mavel #mcu #omgmcu #mcuedit #marveledit #xmen #xforce #collosus #cabel #deadpool2edit #xmenedit #omgpage #omgedit #edit #antihero #memeedit #ryanrenoldsedit #wade', 'Deadpool 2')\n"
     ]
    }
   ],
   "source": [
    "#use_case_11 output\n",
    "for row in c.fetchall():\n",
    "    print(row)"
   ]
  },
  {
   "cell_type": "code",
   "execution_count": 43,
   "metadata": {},
   "outputs": [
    {
     "data": {
      "text/plain": [
       "<sqlite3.Cursor at 0x2a352a86570>"
      ]
     },
     "execution_count": 43,
     "metadata": {},
     "output_type": "execute_result"
    }
   ],
   "source": [
    "#Answer to the PART II question b) When did the user post this ? \n",
    "#Answet to the PART II question c) What posts has this user posted in the past 24 hours?\n",
    "#use_case_12 get the username, postdate, postcontext of  in the 2019-3-3(last 24 hours)\n",
    "c.execute(\"\"\"SELECT user , date, post FROM user_10days WHERE user LIKE '%ironstrangexitaly%' AND date LIKE '%2019-03-03%' \"\"\")"
   ]
  },
  {
   "cell_type": "code",
   "execution_count": 44,
   "metadata": {},
   "outputs": [
    {
     "name": "stdout",
     "output_type": "stream",
     "text": [
      "('ironstrangexitaly', '2019-03-03 15:06:40', \"These are my ten favorite Characters, In last place:\\r\\n💚Bruce Banner💚\\r\\nI'm in love with this cutie\\r\\nCr: @dylxneq\\r\\n[#BruceBanner #brucebanneredit #hulk #hulkedit #avengers #avengersedit]\")\n"
     ]
    }
   ],
   "source": [
    "#use_case_12 output\n",
    "for row in c.fetchall():\n",
    "    print(row)"
   ]
  },
  {
   "cell_type": "code",
   "execution_count": 45,
   "metadata": {},
   "outputs": [
    {
     "data": {
      "text/plain": [
       "<sqlite3.Cursor at 0x2a352a86570>"
      ]
     },
     "execution_count": 45,
     "metadata": {},
     "output_type": "execute_result"
    }
   ],
   "source": [
    "#Answer to the PART II question d) How many post has this user posted in the past 24 hours?\n",
    "#use_case_13 get the username and the number of posts of ironstrangexitaly in the 2019-3-3(last 24 hours)\n",
    "c.execute(\"\"\"SELECT user , COUNT(post) AS num FROM user_10days WHERE user LIKE '%ironstrangexitaly%' AND date LIKE '%2019-03-03%' \"\"\")"
   ]
  },
  {
   "cell_type": "code",
   "execution_count": 46,
   "metadata": {},
   "outputs": [
    {
     "name": "stdout",
     "output_type": "stream",
     "text": [
      "('ironstrangexitaly', 1)\n"
     ]
    }
   ],
   "source": [
    "#use_case_13 out put\n",
    "for row in c.fetchall():\n",
    "    print(row)"
   ]
  },
  {
   "cell_type": "code",
   "execution_count": 47,
   "metadata": {},
   "outputs": [
    {
     "data": {
      "text/plain": [
       "<sqlite3.Cursor at 0x2a352a86570>"
      ]
     },
     "execution_count": 47,
     "metadata": {},
     "output_type": "execute_result"
    }
   ],
   "source": [
    "#use_case_14 get the averange meteascores of all movies \n",
    "c.execute(\"\"\"SELECT AVG(metascores) AS avgscores FROM imdb \"\"\")"
   ]
  },
  {
   "cell_type": "code",
   "execution_count": 48,
   "metadata": {},
   "outputs": [
    {
     "name": "stdout",
     "output_type": "stream",
     "text": [
      "(63.5,)\n"
     ]
    }
   ],
   "source": [
    "#use_case_14 output\n",
    "for row in c.fetchall():\n",
    "    print(row)"
   ]
  },
  {
   "cell_type": "code",
   "execution_count": 49,
   "metadata": {},
   "outputs": [],
   "source": [
    "con.close()"
   ]
  },
  {
   "cell_type": "markdown",
   "metadata": {},
   "source": [
    "# Contribution"
   ]
  },
  {
   "cell_type": "markdown",
   "metadata": {},
   "source": [
    "# BY OWN: 90%"
   ]
  },
  {
   "cell_type": "markdown",
   "metadata": {},
   "source": [
    "# BY external sources 10%"
   ]
  },
  {
   "cell_type": "markdown",
   "metadata": {},
   "source": [
    "# Citation"
   ]
  },
  {
   "cell_type": "markdown",
   "metadata": {},
   "source": [
    "https://docs.python.org/3/library/sqlite3.html"
   ]
  },
  {
   "cell_type": "markdown",
   "metadata": {},
   "source": [
    "https://tweepy.readthedocs.io/en/v3.5.0/"
   ]
  },
  {
   "cell_type": "markdown",
   "metadata": {},
   "source": [
    "# Conclusion"
   ]
  },
  {
   "cell_type": "markdown",
   "metadata": {},
   "source": [
    "In this assignment, we collect data from different sources, including 2 different API. Firstly, we get the movies data from IMDB, and then we use tweepy to get directors' and companies' twitter account information from the twitter. Then, we get the posts from the instgram and the users' last-10-days' posts by instgram API. At last we put there data into a db file, and analyze it by sqlite3."
   ]
  },
  {
   "cell_type": "markdown",
   "metadata": {},
   "source": [
    "# The MIT License"
   ]
  },
  {
   "cell_type": "markdown",
   "metadata": {},
   "source": [
    "Copyright (c) 2019 Jiayue Xu, Lin Shi"
   ]
  },
  {
   "cell_type": "markdown",
   "metadata": {},
   "source": [
    "Permission is hereby granted, free of charge, to any person obtaining a copy of this software and associated documentation files (the \"Software\"), to deal in the Software without restriction, including without limitation the rights to use, copy, modify, merge, publish, distribute, sublicense, and/or sell copies of the Software, and to permit persons to whom the Software is furnished to do so, subject to the following conditions:\n"
   ]
  },
  {
   "cell_type": "markdown",
   "metadata": {},
   "source": [
    "The above copyright notice and this permission notice shall be included in all copies or substantial portions of the Software."
   ]
  },
  {
   "cell_type": "markdown",
   "metadata": {},
   "source": [
    "THE SOFTWARE IS PROVIDED \"AS IS\", WITHOUT WARRANTY OF ANY KIND, EXPRESS OR IMPLIED, INCLUDING BUT NOT LIMITED TO THE WARRANTIES OF MERCHANTABILITY, FITNESS FOR A PARTICULAR PURPOSE AND NONINFRINGEMENT. IN NO EVENT SHALL THE AUTHORS OR COPYRIGHT HOLDERS BE LIABLE FOR ANY CLAIM, DAMAGES OR OTHER LIABILITY, WHETHER IN AN ACTION OF CONTRACT, TORT OR OTHERWISE, ARISING FROM, OUT OF OR IN CONNECTION WITH THE SOFTWARE OR THE USE OR OTHER DEALINGS IN THE SOFTWARE."
   ]
  },
  {
   "cell_type": "code",
   "execution_count": null,
   "metadata": {},
   "outputs": [],
   "source": []
  }
 ],
 "metadata": {
  "kernelspec": {
   "display_name": "Python 3",
   "language": "python",
   "name": "python3"
  },
  "language_info": {
   "codemirror_mode": {
    "name": "ipython",
    "version": 3
   },
   "file_extension": ".py",
   "mimetype": "text/x-python",
   "name": "python",
   "nbconvert_exporter": "python",
   "pygments_lexer": "ipython3",
   "version": "3.7.1"
  }
 },
 "nbformat": 4,
 "nbformat_minor": 2
}
