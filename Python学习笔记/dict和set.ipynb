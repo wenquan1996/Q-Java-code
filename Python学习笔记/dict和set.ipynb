{
 "cells": [
  {
   "cell_type": "code",
   "execution_count": 25,
   "metadata": {},
   "outputs": [
    {
     "name": "stdout",
     "output_type": "stream",
     "text": [
      "955\n",
      "66\n",
      "----------------------------------------\n",
      "True\n",
      "False\n",
      "----------------------------------------\n",
      "955\n",
      "None\n",
      "----------------------------------------\n",
      "{'老大': 955, '老二': 66}\n"
     ]
    }
   ],
   "source": [
    "d={'老大':955,'老二':411,'老三':238}\n",
    "print(d['老大'])\n",
    "#覆盖dict内容\n",
    "d['老二']=66\n",
    "print(d['老二'])\n",
    "print(20*'--')\n",
    "\n",
    "#查找key是否存在方法一\n",
    "print('老大'in d)\n",
    "print('二狗'in d)\n",
    "print(20*'--')\n",
    "\n",
    "\n",
    "#查找key通过dict提供的get()方法\n",
    "#如果key不存在，返回None，或者自己指定的value\n",
    "print(d.get('老大'))\n",
    "print(d.get('二狗'))\n",
    "print(20*'--')\n",
    "\n",
    "\n",
    "#要删除一个key，用pop(key)方法，对应的value也会从dict中删除\n",
    "d.pop('老三')\n",
    "print(d)\n",
    "#dict的key必须是不可变对象\n",
    "#这是因为dict根据key来计算value的存储位置\n",
    "#如果每次计算相同的key得出的结果不同,那dict内部就完全混乱了"
   ]
  },
  {
   "cell_type": "code",
   "execution_count": 30,
   "metadata": {},
   "outputs": [
    {
     "name": "stdout",
     "output_type": "stream",
     "text": [
      "{1, 2, 3}\n",
      "----------------------------------------\n",
      "{1, 2, 3, 4}\n",
      "----------------------------------------\n",
      "{1, 2, 3}\n"
     ]
    }
   ],
   "source": [
    "#set和dict类似,也是一组key的集合,但不存储value.而且所有值无序\n",
    "#由于key不能重复,所以，在set中，没有重复的key.\n",
    "#要创建一个set，需要提供一个list作为输入集合\n",
    "s=set([1,1,2,2,3,3])#set中重复的元素会被自动过滤\n",
    "print(s)\n",
    "print(20*'--')\n",
    "#通过add(key)方法可以添加元素到set中，可以重复添加，但不会有效果\n",
    "s.add(4)\n",
    "s.add(4)\n",
    "print(s)\n",
    "print(20*'--')\n",
    "#通过remove(key)方法可以删除元素\n",
    "s.remove(4)\n",
    "print(s)"
   ]
  },
  {
   "cell_type": "code",
   "execution_count": 32,
   "metadata": {},
   "outputs": [
    {
     "name": "stdout",
     "output_type": "stream",
     "text": [
      "{2, 3}\n",
      "{1, 2, 3, 4}\n"
     ]
    }
   ],
   "source": [
    "s1=set([1,2,3])\n",
    "s2=set([2,3,4])\n",
    "print(s1&s2)#打印出s1和s2的交集\n",
    "print(s1|s2)#打印出s1和s2的并集"
   ]
  },
  {
   "cell_type": "code",
   "execution_count": 36,
   "metadata": {},
   "outputs": [
    {
     "name": "stdout",
     "output_type": "stream",
     "text": [
      "abc\n",
      "Abc\n"
     ]
    }
   ],
   "source": [
    "a='abc'\n",
    "b=a.replace('a','A')\n",
    "#a.replace只是创造了个新的字符串'Abc'而a仍指向字符串'abc'\n",
    "print(a)\n",
    "print(b)"
   ]
  },
  {
   "cell_type": "code",
   "execution_count": null,
   "metadata": {},
   "outputs": [],
   "source": []
  }
 ],
 "metadata": {
  "kernelspec": {
   "display_name": "Python 3",
   "language": "python",
   "name": "python3"
  },
  "language_info": {
   "codemirror_mode": {
    "name": "ipython",
    "version": 3
   },
   "file_extension": ".py",
   "mimetype": "text/x-python",
   "name": "python",
   "nbconvert_exporter": "python",
   "pygments_lexer": "ipython3",
   "version": "3.7.1"
  }
 },
 "nbformat": 4,
 "nbformat_minor": 2
}
