{
 "cells": [
  {
   "cell_type": "code",
   "execution_count": 8,
   "metadata": {},
   "outputs": [
    {
     "name": "stdout",
     "output_type": "stream",
     "text": [
      "Please enter your age here: 3\n",
      "your age is  3\n",
      "you are just a kid\n"
     ]
    }
   ],
   "source": [
    "s=input('Please enter your age here: ')\n",
    "age=int(s)#由于input返回的值为string所以要转化为int\n",
    "if age>=18:\n",
    "    print('your age is ',age)\n",
    "    print('adult')\n",
    "elif age>=9:\n",
    "    print('your age is ', age)\n",
    "    print('subscribe to pewdiepie')\n",
    "else:\n",
    "    print('your age is ',age)\n",
    "    print('you are just a kid')"
   ]
  },
  {
   "cell_type": "code",
   "execution_count": 3,
   "metadata": {},
   "outputs": [
    {
     "name": "stdout",
     "output_type": "stream",
     "text": [
      "4950\n"
     ]
    }
   ],
   "source": [
    "#幸好Python提供一个range()函数，可以生成一个整数序列，再通过list()函数可以转换为list\n",
    "#用range()生成一个从0-99的有序整数list\n",
    "a=list(range(100))\n",
    "sum=0\n",
    "for x in a:\n",
    "    sum=sum +x\n",
    "print(sum)"
   ]
  },
  {
   "cell_type": "code",
   "execution_count": 36,
   "metadata": {},
   "outputs": [
    {
     "name": "stdout",
     "output_type": "stream",
     "text": [
      "4950\n"
     ]
    }
   ],
   "source": [
    "sum=0\n",
    "n=99\n",
    "while n>0:\n",
    "    sum = sum +n\n",
    "    n=n-1\n",
    "print(sum)"
   ]
  },
  {
   "cell_type": "code",
   "execution_count": 1,
   "metadata": {},
   "outputs": [
    {
     "name": "stdout",
     "output_type": "stream",
     "text": [
      "[111, 222, 0, 1, 2, 3, 4, 6, 7, 8, 9, 10]\n"
     ]
    }
   ],
   "source": [
    "n=-1\n",
    "l=[111,222]\n",
    "while n<10:\n",
    "    n=n+1\n",
    "    if n==5:\n",
    "        continue\n",
    "    #在这里写n=n+1的话会因为continue而被一直跳过n指一直都不会变\n",
    "    l.append(n)\n",
    "print(l)\n",
    "#同理continue就是跳过此次循环"
   ]
  },
  {
   "cell_type": "code",
   "execution_count": null,
   "metadata": {},
   "outputs": [],
   "source": []
  }
 ],
 "metadata": {
  "kernelspec": {
   "display_name": "Python 3",
   "language": "python",
   "name": "python3"
  },
  "language_info": {
   "codemirror_mode": {
    "name": "ipython",
    "version": 3
   },
   "file_extension": ".py",
   "mimetype": "text/x-python",
   "name": "python",
   "nbconvert_exporter": "python",
   "pygments_lexer": "ipython3",
   "version": "3.7.1"
  }
 },
 "nbformat": 4,
 "nbformat_minor": 2
}
