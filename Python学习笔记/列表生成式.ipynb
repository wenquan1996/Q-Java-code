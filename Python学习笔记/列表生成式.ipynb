{
 "cells": [
  {
   "cell_type": "code",
   "execution_count": 2,
   "metadata": {},
   "outputs": [
    {
     "name": "stdout",
     "output_type": "stream",
     "text": [
      "[1, 2, 3, 4, 5, 6, 7, 8, 9, 10]\n"
     ]
    }
   ],
   "source": [
    "#生成1到10的list，利用list（）和range（）方法\n",
    "L=list(range(1,11))\n",
    "print(L)"
   ]
  },
  {
   "cell_type": "code",
   "execution_count": 3,
   "metadata": {},
   "outputs": [
    {
     "name": "stdout",
     "output_type": "stream",
     "text": [
      "[1, 4, 9, 16, 25, 36, 49, 64, 81, 100]\n"
     ]
    }
   ],
   "source": [
    "#要生成[1x1, 2x2, 3x3, ..., 10x10] 方法一\n",
    "M=[]\n",
    "for x in range(1,11):\n",
    "    M.append(x*x)\n",
    "print(M)"
   ]
  },
  {
   "cell_type": "code",
   "execution_count": 5,
   "metadata": {},
   "outputs": [
    {
     "name": "stdout",
     "output_type": "stream",
     "text": [
      "[1, 4, 9, 16, 25, 36, 49, 64, 81, 100]\n"
     ]
    }
   ],
   "source": [
    "#方法二\n",
    "N=[x*x for x in range(1,11)]\n",
    "print(N)"
   ]
  },
  {
   "cell_type": "code",
   "execution_count": 6,
   "metadata": {},
   "outputs": [
    {
     "name": "stdout",
     "output_type": "stream",
     "text": [
      "[4, 16, 36, 64, 100]\n"
     ]
    }
   ],
   "source": [
    "#for循环后面还可以加上if判断，这样我们就可以筛选出仅偶数的平方\n",
    "B=[x * x for x in range(1, 11) if x % 2 == 0]\n",
    "print(B)"
   ]
  },
  {
   "cell_type": "code",
   "execution_count": 9,
   "metadata": {},
   "outputs": [
    {
     "name": "stdout",
     "output_type": "stream",
     "text": [
      "['AQ', 'AW', 'AE', 'BQ', 'BW', 'BE', 'CQ', 'CW', 'CE']\n"
     ]
    }
   ],
   "source": [
    "#还可以使用两层循环，可以生成全排列\n",
    "LM=[n+m for n in 'ABC' for m in 'QWE']\n",
    "print(LM)"
   ]
  },
  {
   "cell_type": "code",
   "execution_count": 10,
   "metadata": {},
   "outputs": [
    {
     "name": "stdout",
     "output_type": "stream",
     "text": [
      "x = A\n",
      "y = B\n",
      "z = C\n"
     ]
    }
   ],
   "source": [
    "#遍历dict中的key和value\n",
    "d = {'x': 'A', 'y': 'B', 'z': 'C' }\n",
    "for k, v in d.items():\n",
    "    print(k, '=', v)"
   ]
  },
  {
   "cell_type": "code",
   "execution_count": 11,
   "metadata": {},
   "outputs": [
    {
     "name": "stdout",
     "output_type": "stream",
     "text": [
      "['x=A', 'y=B', 'z=C']\n"
     ]
    }
   ],
   "source": [
    "#列表生成式也可以使用两个变量来生成list\n",
    "Q=[k + '=' + v for k, v in d.items()]\n",
    "print(Q)"
   ]
  },
  {
   "cell_type": "code",
   "execution_count": 15,
   "metadata": {},
   "outputs": [
    {
     "name": "stdout",
     "output_type": "stream",
     "text": [
      "['hello', 'world', 'ibm', 'apple']\n"
     ]
    }
   ],
   "source": [
    "#把一个list中所有的字符串变成小写\n",
    "oo = ['Hello', 'World', 'IBM', 'Apple']\n",
    "print([s.lower() for s in oo])"
   ]
  },
  {
   "cell_type": "code",
   "execution_count": 17,
   "metadata": {},
   "outputs": [
    {
     "name": "stdout",
     "output_type": "stream",
     "text": [
      "True\n",
      "False\n"
     ]
    }
   ],
   "source": [
    "# 练习\n",
    "# 如果list中既包含字符串，又包含整数，由于非字符串类型没有lower()方法，所以列表生成式会报错\n",
    "#使用内建的isinstance函数可以判断一个变量是不是字符串\n",
    "#如\n",
    "x = 'abc'\n",
    "y = 123\n",
    "print(isinstance(x, str))\n",
    "\n",
    "print(isinstance(y, str))"
   ]
  },
  {
   "cell_type": "code",
   "execution_count": 18,
   "metadata": {},
   "outputs": [],
   "source": [
    "#请修改列表生成式，通过添加if语句保证列表生成式能正确地执行\n",
    "def listlow(LL):\n",
    "    M=[x.lower() for x in LL if isinstance(x,str)]\n",
    "    print(M)\n"
   ]
  },
  {
   "cell_type": "code",
   "execution_count": 20,
   "metadata": {},
   "outputs": [
    {
     "name": "stdout",
     "output_type": "stream",
     "text": [
      "['hello', 'world', 'ibm', 'apple']\n"
     ]
    }
   ],
   "source": [
    "MMM=['Hello', 'World',18, 'IBM', 'Apple']\n",
    "listlow(MMM)"
   ]
  },
  {
   "cell_type": "code",
   "execution_count": null,
   "metadata": {},
   "outputs": [],
   "source": []
  }
 ],
 "metadata": {
  "kernelspec": {
   "display_name": "Python 3",
   "language": "python",
   "name": "python3"
  },
  "language_info": {
   "codemirror_mode": {
    "name": "ipython",
    "version": 3
   },
   "file_extension": ".py",
   "mimetype": "text/x-python",
   "name": "python",
   "nbconvert_exporter": "python",
   "pygments_lexer": "ipython3",
   "version": "3.7.1"
  }
 },
 "nbformat": 4,
 "nbformat_minor": 2
}
