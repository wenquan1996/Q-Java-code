{
 "cells": [
  {
   "cell_type": "code",
   "execution_count": 11,
   "metadata": {},
   "outputs": [
    {
     "name": "stdout",
     "output_type": "stream",
     "text": [
      "Michael\n",
      "Sarah\n",
      "Tracy\n",
      "----------------------------------------\n",
      "['Michael', 'Sarah', 'Tracy']\n"
     ]
    }
   ],
   "source": [
    "L = ['Michael', 'Sarah', 'Tracy', 'Bob', 'Jack']\n",
    "#取前3个元素\n",
    "n=3\n",
    "for i in range(n):\n",
    "    print(L[i])\n",
    "print(20*'--')\n",
    "newlist=[]\n",
    "for i in range(n):\n",
    "    newlist.append(L[i])\n",
    "print(newlist)"
   ]
  },
  {
   "cell_type": "code",
   "execution_count": 25,
   "metadata": {},
   "outputs": [
    {
     "name": "stdout",
     "output_type": "stream",
     "text": [
      "['Michael', 'Sarah', 'Tracy']\n",
      "----------------------------------------\n",
      "['Michael', 'Sarah', 'Tracy']\n",
      "['Tracy', 'Bob', 'Jack']\n",
      "----------------------------------------\n",
      "[10, 11, 12, 13, 14, 15, 16, 17, 18, 19]\n",
      "----------------------------------------\n",
      "[0, 2, 4, 6, 8]\n",
      "----------------------------------------\n",
      "[0, 1, 2, 3, 4, 5, 6, 7, 8, 9, 10, 11, 12, 13, 14, 15, 16, 17, 18, 19, 20, 21, 22, 23, 24, 25, 26, 27, 28, 29, 30, 31, 32, 33, 34, 35, 36, 37, 38, 39, 40, 41, 42, 43, 44, 45, 46, 47, 48, 49, 50, 51, 52, 53, 54, 55, 56, 57, 58, 59, 60, 61, 62, 63, 64, 65, 66, 67, 68, 69, 70, 71, 72, 73, 74, 75, 76, 77, 78, 79, 80, 81, 82, 83, 84, 85, 86, 87, 88, 89, 90, 91, 92, 93, 94, 95, 96, 97, 98, 99]\n"
     ]
    }
   ],
   "source": [
    "#切片的方法\n",
    "#L[0:3]表示，从索引0开始取，直到索引3为止，但不包括索引3。\n",
    "#即索引0，1，2，正好是3个元素。\n",
    "print(L[0:3])\n",
    "print(20*'--')\n",
    "#如果第一个索引是0，还可以省略\n",
    "print(L[:3])\n",
    "#既然Python支持L[-1]取倒数第一个元素，那么它同样支持倒数切片\n",
    "print(L[-3:])\n",
    "print(20*'--')\n",
    "\n",
    "list1=list(range(100))\n",
    "print(list1[10:20])\n",
    "print(20*'--')\n",
    "#前10个数，每两个取一个\n",
    "print(list1[:10:2])\n",
    "print(20*'--')\n",
    "#什么都不写及复制list\n",
    "print(list1[:])"
   ]
  },
  {
   "cell_type": "code",
   "execution_count": 26,
   "metadata": {},
   "outputs": [
    {
     "name": "stdout",
     "output_type": "stream",
     "text": [
      "ABC\n"
     ]
    }
   ],
   "source": [
    "#字符串也可以切片\n",
    "strs='ABCDE'\n",
    "print(strs[:3])"
   ]
  },
  {
   "cell_type": "code",
   "execution_count": null,
   "metadata": {},
   "outputs": [],
   "source": []
  }
 ],
 "metadata": {
  "kernelspec": {
   "display_name": "Python 3",
   "language": "python",
   "name": "python3"
  },
  "language_info": {
   "codemirror_mode": {
    "name": "ipython",
    "version": 3
   },
   "file_extension": ".py",
   "mimetype": "text/x-python",
   "name": "python",
   "nbconvert_exporter": "python",
   "pygments_lexer": "ipython3",
   "version": "3.7.1"
  }
 },
 "nbformat": 4,
 "nbformat_minor": 2
}
