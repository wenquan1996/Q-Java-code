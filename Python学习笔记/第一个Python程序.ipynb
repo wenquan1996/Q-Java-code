{
 "cells": [
  {
   "cell_type": "code",
   "execution_count": 1,
   "metadata": {},
   "outputs": [
    {
     "data": {
      "text/plain": [
       "300"
      ]
     },
     "execution_count": 1,
     "metadata": {},
     "output_type": "execute_result"
    }
   ],
   "source": [
    "100+200"
   ]
  },
  {
   "cell_type": "code",
   "execution_count": 9,
   "metadata": {},
   "outputs": [
    {
     "name": "stdout",
     "output_type": "stream",
     "text": [
      "hello world\n"
     ]
    }
   ],
   "source": [
    "print('hello','world')"
   ]
  },
  {
   "cell_type": "code",
   "execution_count": 10,
   "metadata": {},
   "outputs": [
    {
     "name": "stdout",
     "output_type": "stream",
     "text": [
      "600.26\n"
     ]
    }
   ],
   "source": [
    "print(100.26+200+300)"
   ]
  },
  {
   "cell_type": "code",
   "execution_count": 6,
   "metadata": {},
   "outputs": [
    {
     "data": {
      "text/plain": [
       "1024"
      ]
     },
     "execution_count": 6,
     "metadata": {},
     "output_type": "execute_result"
    }
   ],
   "source": [
    "2**10\n",
    "#2的10次方"
   ]
  },
  {
   "cell_type": "code",
   "execution_count": 7,
   "metadata": {},
   "outputs": [
    {
     "data": {
      "text/plain": [
       "20"
      ]
     },
     "execution_count": 7,
     "metadata": {},
     "output_type": "execute_result"
    }
   ],
   "source": [
    "2*10"
   ]
  },
  {
   "cell_type": "code",
   "execution_count": 1,
   "metadata": {},
   "outputs": [
    {
     "name": "stdout",
     "output_type": "stream",
     "text": [
      "Please enter an Adjective wordBroken\n",
      "My heart is about to be  Broken\n"
     ]
    }
   ],
   "source": [
    "MyHeart=input('Please enter an Adjective word')\n",
    "print('My heart is about to be ',MyHeart)"
   ]
  },
  {
   "cell_type": "code",
   "execution_count": 4,
   "metadata": {},
   "outputs": [
    {
     "name": "stdout",
     "output_type": "stream",
     "text": [
      "100\n"
     ]
    }
   ],
   "source": [
    "#print absolute value of an integer:\n",
    "#当语句以冒号:结尾时，缩进的语句视为代码块\n",
    "#没有规定缩进是几个空格还是Tab,但按照约定俗成的管理，应该始终坚持使用4个空格的缩进。\n",
    "#Python程序是大小写敏感的，如果写错了大小写，程序会报错。\n",
    "a=100\n",
    "if a>=0:\n",
    "    print(a)\n",
    "else:\n",
    "    print(-a)"
   ]
  },
  {
   "cell_type": "code",
   "execution_count": 13,
   "metadata": {},
   "outputs": [
    {
     "name": "stdout",
     "output_type": "stream",
     "text": [
      "I'm OK\n",
      "I\\m\"OK\"!\n",
      "I'm\"OK\"!\n"
     ]
    }
   ],
   "source": [
    "print('I\\'m OK')\n",
    "print('I\\m\\\"OK\\\"!')\n",
    "print('I\\'m\"OK\"!')\n",
    "#转义字符\\可以转义很多字符\n",
    "#比如\\n表示换行，\\t表示制表符，字符\\本身也要转义，所以\\\\表示的字符就是\\"
   ]
  },
  {
   "cell_type": "code",
   "execution_count": 22,
   "metadata": {},
   "outputs": [
    {
     "name": "stdout",
     "output_type": "stream",
     "text": [
      "line1\n",
      "         line2\n",
      "line3\n"
     ]
    }
   ],
   "source": [
    "#如果字符串内部有很多换行，用\\n写在一行里不好阅读，为了简化，\n",
    "#Python允许用'''...'''的格式表示多行内容，可以自己试试\n",
    "print('''line1\n",
    "         line2\n",
    "line3''')"
   ]
  },
  {
   "cell_type": "code",
   "execution_count": 26,
   "metadata": {},
   "outputs": [
    {
     "name": "stdout",
     "output_type": "stream",
     "text": [
      "True\n",
      "False\n",
      "True\n",
      "False\n",
      "True\n",
      "True\n"
     ]
    }
   ],
   "source": [
    "print(True and True)\n",
    "print(True and False)\n",
    "print(True or False)\n",
    "print(1>2)\n",
    "print(2>1)\n",
    "print(not False)"
   ]
  },
  {
   "cell_type": "code",
   "execution_count": 31,
   "metadata": {},
   "outputs": [
    {
     "name": "stdout",
     "output_type": "stream",
     "text": [
      "123\n",
      "Boris\n"
     ]
    }
   ],
   "source": [
    "a=123\n",
    "print(a)\n",
    "a='Boris'\n",
    "print(a)\n",
    "#这种变量本身类型不固定的语言称之为动态语言"
   ]
  },
  {
   "cell_type": "code",
   "execution_count": 38,
   "metadata": {},
   "outputs": [
    {
     "name": "stdout",
     "output_type": "stream",
     "text": [
      "3\n",
      "1\n"
     ]
    }
   ],
   "source": [
    "print(10//3)\n",
    "#地板除现实结果为结果的整数部分\n",
    "print(10%3)\n",
    "#取余数"
   ]
  },
  {
   "cell_type": "code",
   "execution_count": 50,
   "metadata": {},
   "outputs": [
    {
     "name": "stdout",
     "output_type": "stream",
     "text": [
      "Hi,Winston,you are my Bitch\n"
     ]
    }
   ],
   "source": [
    "print(('Hi,%s,you are my %s')%('Winston','Bitch'))\n",
    "# 占位符\n",
    "# %d 表示整数  \n",
    "# %f 表示浮点数 \n",
    "# %s表示字符串 \n",
    "# %x表示十六进制整数"
   ]
  },
  {
   "cell_type": "code",
   "execution_count": 63,
   "metadata": {},
   "outputs": [
    {
     "name": "stdout",
     "output_type": "stream",
     "text": [
      "第一辆车:我的          ,第二辆车:也是我的  ,第三辆车:还是我的\n"
     ]
    }
   ],
   "source": [
    "print('第一辆车:{0:12s},第二辆车:{1:6s},第三辆车:{2}'.format('我的','也是我的','还是我的'))\n",
    "#{0：12s}中0为format中的位置12s为字符串长度，浮点数为12f"
   ]
  },
  {
   "cell_type": "code",
   "execution_count": 92,
   "metadata": {},
   "outputs": [
    {
     "name": "stdout",
     "output_type": "stream",
     "text": [
      "['老大', '老二', '老三', '老四']\n",
      "老大\n",
      "老二\n",
      "老四\n",
      "老三\n",
      "['老大', 'insert到一号位的家伙', '老二', '老三', '老四', 'append进去的家伙']\n",
      "['老大', 'insert到一号位的家伙', '老二', '老三', 'append进去的家伙']\n",
      "['老大', 'insert到一号位的家伙', '老二', '取代了老三的位置的家伙', 'append进去的家伙']\n",
      "3\n",
      "3\n",
      "[1, 2, 3, [11, 22, 33]]\n",
      "4\n",
      "5\n"
     ]
    }
   ],
   "source": [
    "classmates=['老大','老二','老三','老四']\n",
    "print(classmates)\n",
    "print(classmates[0])\n",
    "print(classmates[1])\n",
    "print(classmates[-1])#取list中倒数第一个元素的时候可以用-1做索引\n",
    "print(classmates[-2])#以此类推可以取出倒数第二个元素\n",
    "classmates.append('append进去的家伙')\n",
    "classmates.insert(1,'insert到一号位的家伙')\n",
    "print(classmates)\n",
    "#pop(i)可以删除list中位置i的元素\n",
    "classmates.pop(4)\n",
    "print(classmates)\n",
    "classmates[3]='取代了老三的位置的家伙'\n",
    "print(classmates)\n",
    "#list中还可以再加入list\n",
    "oldlist=[1,2,3]\n",
    "newlist=[11,22,33]\n",
    "print(len(oldlist))#len()显示list中元素个数\n",
    "print(len(newlist))\n",
    "oldlist.append(newlist)\n",
    "print(oldlist)\n",
    "print(len(oldlist))"
   ]
  },
  {
   "cell_type": "code",
   "execution_count": 98,
   "metadata": {},
   "outputs": [
    {
     "name": "stdout",
     "output_type": "stream",
     "text": [
      "(1, 2, 3)\n",
      "1\n",
      "[99, 88]\n",
      "99\n",
      "(1, 2, ['11', 88])\n"
     ]
    }
   ],
   "source": [
    "#另一种有序列表叫元组：tuple。\n",
    "#tuple和list非常类似，但是tuple一旦初始化就不能修改，相比之下更安全\n",
    "t=(1,2,3)\n",
    "print(t)\n",
    "print(t[0])\n",
    "s=(1,2,[99,88])\n",
    "print(s[2])\n",
    "print(s[2][0])\n",
    "s[2][0]='11'\n",
    "print(s)#tuple中的元素没有变，便的是tuple中的list中的元素"
   ]
  },
  {
   "cell_type": "code",
   "execution_count": 10,
   "metadata": {},
   "outputs": [
    {
     "name": "stdout",
     "output_type": "stream",
     "text": [
      "333\n"
     ]
    }
   ],
   "source": [
    "oldlist=[1,2,3,[11,22,33,[111,222,333]]]\n",
    "print(oldlist[3][3][2])\n",
    "dict1={}"
   ]
  },
  {
   "cell_type": "code",
   "execution_count": null,
   "metadata": {},
   "outputs": [],
   "source": []
  }
 ],
 "metadata": {
  "kernelspec": {
   "display_name": "Python 3",
   "language": "python",
   "name": "python3"
  },
  "language_info": {
   "codemirror_mode": {
    "name": "ipython",
    "version": 3
   },
   "file_extension": ".py",
   "mimetype": "text/x-python",
   "name": "python",
   "nbconvert_exporter": "python",
   "pygments_lexer": "ipython3",
   "version": "3.7.1"
  }
 },
 "nbformat": 4,
 "nbformat_minor": 2
}
