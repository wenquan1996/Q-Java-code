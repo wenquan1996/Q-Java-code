{
 "cells": [
  {
   "cell_type": "code",
   "execution_count": 6,
   "metadata": {},
   "outputs": [
    {
     "name": "stdout",
     "output_type": "stream",
     "text": [
      "a\n",
      "b\n",
      "c\n",
      "----------------------------------------\n",
      "1\n",
      "2\n",
      "3\n",
      "----------------------------------------\n",
      "a 1\n",
      "b 2\n",
      "c 3\n"
     ]
    }
   ],
   "source": [
    "d = {'a': 1, 'b': 2, 'c': 3}\n",
    "#要dict中的key\n",
    "for key in d:\n",
    "    print(key)\n",
    "print(20*'--')\n",
    "\n",
    "#要dict中的value：\n",
    "for value in d.values():\n",
    "    print(value)\n",
    "print(20*'--')\n",
    "\n",
    "#要dict中的key和value\n",
    "for k,v in d.items():\n",
    "    print(k,v)"
   ]
  },
  {
   "cell_type": "code",
   "execution_count": 8,
   "metadata": {},
   "outputs": [
    {
     "name": "stdout",
     "output_type": "stream",
     "text": [
      "True\n",
      "True\n",
      "False\n"
     ]
    }
   ],
   "source": [
    "#如何判断对象是否可以迭代\n",
    "#方法是通过collections模块的Iterable类型判断\n",
    "from collections import Iterable\n",
    "print(isinstance('abc', Iterable)) # str是否可迭代\n",
    "print(isinstance([1,2,3], Iterable)) # list是否可迭代\n",
    "print(isinstance(123, Iterable)) # 整数是否可迭代"
   ]
  },
  {
   "cell_type": "code",
   "execution_count": 4,
   "metadata": {},
   "outputs": [],
   "source": [
    "#练习\n",
    "#请使用迭代查找一个list中最小和最大值，并返回一个tuple：\n",
    "def FindMaxValue(L):\n",
    "    i=0\n",
    "    a=0\n",
    "    b=0\n",
    "    for x in L:\n",
    "            if a<x:\n",
    "                a=x\n",
    "            if b>x:\n",
    "                b=x\n",
    "    return (a,b)\n",
    "#别用<=。。。。。"
   ]
  },
  {
   "cell_type": "code",
   "execution_count": 8,
   "metadata": {},
   "outputs": [
    {
     "name": "stdout",
     "output_type": "stream",
     "text": [
      "(99, 0)\n",
      "(2019, -6)\n",
      "[0, 1, 2, 3, 4, 5, 6, 7, 8, 9, 10, 11, 12, 13, 14, 15, 16, 17, 18, 19, 20, 21, 22, 23, 24, 25, 26, 27, 28, 29, 30, 31, 32, 33, 34, 35, 36, 37, 38, 39, 40, 41, 42, 43, 44, 45, 46, 47, 48, 49, 50, 51, 52, 53, 54, 55, 56, 57, 58, 59, 60, 61, 62, 63, 64, 65, 66, 67, 68, 69, 70, 71, 72, 73, 74, 75, 76, 77, 78, 79, 80, 81, 82, 83, 84, 85, 86, 87, 88, 89, 90, 91, 92, 93, 94, 95, 96, 97, 98, 99]\n"
     ]
    }
   ],
   "source": [
    "Ln=list(range(100))\n",
    "print(FindMaxValue(Ln))\n",
    "\n",
    "little=[-1,-6,2019,335,0]\n",
    "print(FindMaxValue(little))\n",
    "\n",
    "print(Ln)"
   ]
  },
  {
   "cell_type": "code",
   "execution_count": null,
   "metadata": {},
   "outputs": [],
   "source": []
  }
 ],
 "metadata": {
  "kernelspec": {
   "display_name": "Python 3",
   "language": "python",
   "name": "python3"
  },
  "language_info": {
   "codemirror_mode": {
    "name": "ipython",
    "version": 3
   },
   "file_extension": ".py",
   "mimetype": "text/x-python",
   "name": "python",
   "nbconvert_exporter": "python",
   "pygments_lexer": "ipython3",
   "version": "3.7.1"
  }
 },
 "nbformat": 4,
 "nbformat_minor": 2
}
