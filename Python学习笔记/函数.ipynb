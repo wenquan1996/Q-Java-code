{
 "cells": [
  {
   "cell_type": "code",
   "execution_count": 15,
   "metadata": {},
   "outputs": [
    {
     "name": "stdout",
     "output_type": "stream",
     "text": [
      "This integer is not a multiple of 3\n",
      "None\n"
     ]
    }
   ],
   "source": [
    "#定义并调用函数\n",
    "def my_3(x):\n",
    "    #在开头添加if语句检查参数类型如果输入参数错误则报错\n",
    "    if not isinstance(x,(int,float)):\n",
    "        raise TypeError('You enter the wrong type of parameter')\n",
    "    \n",
    "    if x%3==0:\n",
    "        print('This integer is a multiple of 3')\n",
    "    else:\n",
    "        print('This integer is not a multiple of 3')\n",
    "    return\n",
    "print(my_3(1))#调用函数"
   ]
  },
  {
   "cell_type": "code",
   "execution_count": 17,
   "metadata": {},
   "outputs": [
    {
     "name": "stdout",
     "output_type": "stream",
     "text": [
      "(53.53219888177297, -84.09035245341184)\n"
     ]
    }
   ],
   "source": [
    "#比如在游戏中经常需要从一个点移动到另一个点\n",
    "#给出坐标、位移和角度，就可以计算出新的新的坐标\n",
    "import math\n",
    "\n",
    "def move(x,y,step,angle=0):\n",
    "    nx=x+step*math.cos(angle)\n",
    "    ny=x-step*math.sin(angle)\n",
    "    return nx,ny\n",
    "print(move(1,2,100,45))\n",
    "# 小结\n",
    "# 定义函数时，需要确定函数名和参数个数；\n",
    "\n",
    "# 如果有必要，可以先对参数的数据类型做检查；\n",
    "\n",
    "# 函数体内部可以用return随时返回函数结果；\n",
    "\n",
    "# 函数执行完毕也没有return语句时，自动return None。\n",
    "\n",
    "# 函数可以同时返回多个值，但其实就是一个tuple。"
   ]
  },
  {
   "cell_type": "code",
   "execution_count": 8,
   "metadata": {},
   "outputs": [
    {
     "name": "stdout",
     "output_type": "stream",
     "text": [
      "(-0.5, -1.0)\n"
     ]
    }
   ],
   "source": [
    "#练习\n",
    "#请定义一个函数quadratic(a, b, c)，接收3个参数\n",
    "#返回一元二次方程：ax2 + bx + c = 0\n",
    "import math\n",
    "\n",
    "def quadratic(a,b,c):\n",
    "    delta=b*b-4*a*c\n",
    "    if delta>=0:\n",
    "        x1=(-b+math.sqrt(delta))/(2*a)\n",
    "        x2=(-b-math.sqrt(delta))/(2*a)\n",
    "        return x1,x2\n",
    "    else:\n",
    "        return print('no solution')\n",
    "print(quadratic(2,3,1))\n"
   ]
  },
  {
   "cell_type": "code",
   "execution_count": 43,
   "metadata": {},
   "outputs": [
    {
     "name": "stdout",
     "output_type": "stream",
     "text": [
      "Name 10\n",
      "Gender M\n",
      "Age 6\n",
      "City Beijing\n",
      "----------------------------------------\n",
      "None\n",
      "Name 小婊子\n",
      "Gender F\n",
      "Age 25\n",
      "City Xiamen\n",
      "----------------------------------------\n",
      "None\n",
      "Name 小东西\n",
      "Gender F\n",
      "Age 6\n",
      "City Wuhan\n",
      "----------------------------------------\n",
      "None\n"
     ]
    }
   ],
   "source": [
    "#默认参数\n",
    "def enroll(name,gender,age=6,city='Beijing'):\n",
    "    print('Name',name)\n",
    "    print('Gender',gender)\n",
    "    print('Age',age)\n",
    "    print('City',city)\n",
    "    print(20*'--')\n",
    "print(enroll(10,'M'))\n",
    "print(enroll('小婊子','F',25,'Xiamen'))\n",
    "print(enroll('小东西','F',city='Wuhan'))\n",
    "#默认参数如age和city最好放在后面，这样不会影响到必选参数name和gender\n",
    "#在需要更改默认参数age和city时只需要输入对应参数即可"
   ]
  },
  {
   "cell_type": "code",
   "execution_count": 7,
   "metadata": {},
   "outputs": [
    {
     "name": "stdout",
     "output_type": "stream",
     "text": [
      "30\n",
      "----------------------------------------\n",
      "30\n",
      "----------------------------------------\n",
      "14\n",
      "----------------------------------------\n",
      "14\n"
     ]
    }
   ],
   "source": [
    "def calc1(numbers):\n",
    "    sum=0\n",
    "    for n in numbers:\n",
    "        sum=sum+n*n\n",
    "    return sum\n",
    "print(calc1([1,2,3,4]))#在输入的时候必须为list或者tuple\n",
    "print(20*'--')\n",
    "\n",
    "#可变参数与定义一个list或者tuple参数相比仅仅在参数前面加了一个*号\n",
    "#在函数内部，参数numbers收到的是一个tuple\n",
    "#因此，函数代码完全不变。但是，调用该函数时，可以传入任意个参数，包括0个参数\n",
    "def calc(*numbers):\n",
    "    sum=0\n",
    "    for n in numbers:\n",
    "        sum = sum + n*n\n",
    "    return sum\n",
    "print(calc(1,2,3,4))\n",
    "print(20*'--')\n",
    "\n",
    "#如果已经有一个list或者tuple\n",
    "nums=[1,2,3]\n",
    "print(calc(nums[0],nums[1],nums[2]))\n",
    "print(20*'--')\n",
    "\n",
    "#然而以上写法太过繁琐，可在list或者tuple前面加上一个*号\n",
    "print(calc(*nums))"
   ]
  },
  {
   "cell_type": "code",
   "execution_count": 23,
   "metadata": {},
   "outputs": [
    {
     "name": "stdout",
     "output_type": "stream",
     "text": [
      "name: Michael age: 30 other: {}\n",
      "----------------------------------------\n",
      "name: Bob age: 35 other: {'city': 'Beijing'}\n",
      "name: Adam age: 45 other: {'gender': 'M', 'job': 'Engineer'}\n",
      "----------------------------------------\n",
      "name: jack age: 24 other: {'city': 'Beijing', 'job': 'Engineer'}\n",
      "name: jack age: 24 other: {'city': 'Beijing', 'job': 'Engineer'}\n"
     ]
    }
   ],
   "source": [
    "#关键字参数\n",
    "def person(name,age,**kw):\n",
    "                    #若将**kw改为*kw则把'other:'去掉并在以下调用的时候\n",
    "                    #去除city=，gender=，job=之类即可\n",
    "    print('name:',name,'age:',age,'other:',kw)\n",
    "#函数person除了必选参数name和age外，还接受关键字参数kw。\n",
    "#在调用该函数时，可以只传入必选参数\n",
    "person('Michael',30)\n",
    "print(20*'--')\n",
    "#也可以传入任意个数的关键字参数\n",
    "person('Bob', 35, city='Beijing')\n",
    "person('Adam', 45, gender='M', job='Engineer')\n",
    "print(20*'--')\n",
    "\n",
    "#和可变参数类似，也可以先组装出一个dict，再把该dict转换为关键字参数传进去\n",
    "extra = {'city': 'Beijing', 'job': 'Engineer'}\n",
    "person('jack',24,city=extra['city'],job=extra['job'])\n",
    "\n",
    "#也可以简写为：\n",
    "person('jack',24,**extra)\n"
   ]
  },
  {
   "cell_type": "code",
   "execution_count": 24,
   "metadata": {},
   "outputs": [
    {
     "name": "stdout",
     "output_type": "stream",
     "text": [
      "name: jack age: 24 other: {'city': 'Beijing', 'addr': 'Chaoyang', 'zipcode': 123456}\n"
     ]
    }
   ],
   "source": [
    "#命名关键字参数\n",
    "def person(name,age,**kw):\n",
    "    if 'city' in kw:\n",
    "        #有city参数\n",
    "        pass\n",
    "    if 'job' in kw:\n",
    "        #有job参数\n",
    "        pass\n",
    "    print('name:',name,'age:',age,'other:',kw)\n",
    "#但是调用者仍可以传入不受限制的关键字参数\n",
    "person('jack',24,city='Beijing',addr='Chaoyang',zipcode=123456)"
   ]
  },
  {
   "cell_type": "code",
   "execution_count": 70,
   "metadata": {},
   "outputs": [
    {
     "name": "stdout",
     "output_type": "stream",
     "text": [
      "fff 99 (45,) Beijing 超人\n",
      "ss 98 (99,) Shanghai 恶棍\n",
      "ss 98 () Shanghai 恶棍\n",
      "ss 98 (99,) Shanghai 恶棍\n",
      "----------------------------------------\n",
      "ss 98 (99,) Beijing 上帝\n"
     ]
    }
   ],
   "source": [
    "#如果要限制关键字参数的名字，就可以用命名关键字参数\n",
    "#例如，只接收city和job作为关键字参数。这种方式定义的函数如下\n",
    "def person(name,age,*args,city,job):\n",
    "    print(name,age,args,city,job)#city和job为必须传入参数\n",
    "person('fff',99,45,city='Beijing',job='超人')\n",
    "ert=['ss',98,99]\n",
    "person(ert[0],ert[1],ert[2],city='Shanghai',job='恶棍')\n",
    "person(ert[0],ert[1],city='Shanghai',job='恶棍')\n",
    "person(*ert,city='Shanghai',job='恶棍')\n",
    "print(20*'--')\n",
    "#可以给关键字参数city和job附上默认值\n",
    "def prs(name,age,*args,city='Beijing',job='上帝'):\n",
    "    print(name,age,args,city,job)\n",
    "prs(*ert)"
   ]
  },
  {
   "cell_type": "code",
   "execution_count": 88,
   "metadata": {},
   "outputs": [
    {
     "name": "stdout",
     "output_type": "stream",
     "text": [
      "a = 1 b = 2 c = 0 args = () kw = {}\n",
      "a = 1 b = 2 c = 3 args = () kw = {'agrs': 9, 'x': 98}\n",
      "a = 1 b = 2 c = 3 args = ('a', 'b') kw = {}\n",
      "a = 1 b = 2 c = 3 args = ('a', 'b') kw = {'x': 99}\n",
      "----------------------------------------\n",
      "a = 1 b = 2 c = 0 d = 99 kw = {'ext': None}\n"
     ]
    }
   ],
   "source": [
    "#参数组合\n",
    "#参数定义的顺序必须是：\n",
    "#必选参数、默认参数、可变参数、命名关键字参数和关键字参数\n",
    "def f1(a, b, c=0, *args, **kw):\n",
    "    print('a =', a, 'b =', b, 'c =', c, 'args =', args, 'kw =', kw)\n",
    "def f2(a, b, c=0, *, d, **kw):\n",
    "    print('a =', a, 'b =', b, 'c =', c, 'd =', d, 'kw =', kw)\n",
    "#在函数调用的时候，Python解释器自动按照参数位置和参数名把对应的参数传进去\n",
    "f1(1,2)\n",
    "f1(1,2,c=3,agrs=9,x=98)\n",
    "f1(1, 2, 3, 'a', 'b')\n",
    "f1(1, 2, 3, 'a', 'b', x=99)\n",
    "print(20*'--')\n",
    "f2(1, 2, d=99, ext=None)"
   ]
  },
  {
   "cell_type": "code",
   "execution_count": 105,
   "metadata": {},
   "outputs": [
    {
     "name": "stdout",
     "output_type": "stream",
     "text": [
      "120\n"
     ]
    }
   ],
   "source": [
    "#递归函数：再函数中调用自身本身\n",
    "def fact(n):\n",
    "    if n==1:\n",
    "        return 1\n",
    "    return n * fact(n - 1)\n",
    "print(fact(5))"
   ]
  },
  {
   "cell_type": "code",
   "execution_count": 106,
   "metadata": {},
   "outputs": [
    {
     "name": "stdout",
     "output_type": "stream",
     "text": [
      "120\n"
     ]
    }
   ],
   "source": [
    "#尾递归优化\n",
    "def fact(n):\n",
    "    return fact_iter(n, 1)\n",
    "\n",
    "def fact_iter(num, product):\n",
    "    if num == 1:\n",
    "        return product\n",
    "    return fact_iter(num - 1, num * product)\n",
    "\n",
    "print(fact(5))\n",
    "# fact(5)对应的fact_iter(5, 1)的调用如下：\n",
    "# fact_iter(5, 1)\n",
    "# ===> fact_iter(4, 5)\n",
    "# ===> fact_iter(3, 20)\n",
    "# ===> fact_iter(2, 60)\n",
    "# ===> fact_iter(1, 120)\n",
    "# ===> 120"
   ]
  },
  {
   "cell_type": "code",
   "execution_count": 121,
   "metadata": {},
   "outputs": [
    {
     "name": "stdout",
     "output_type": "stream",
     "text": [
      "A --> C\n",
      "A --> B\n",
      "C --> B\n",
      "A --> C\n",
      "B --> A\n",
      "B --> C\n",
      "A --> C\n"
     ]
    }
   ],
   "source": [
    "def hanoi(n, a, b, c):\n",
    "    if n == 1:\n",
    "        print(a, '-->', c)\n",
    "    else:\n",
    "        hanoi(n - 1, a, c, b)\n",
    "        print(a, '-->', c)\n",
    "        hanoi(n - 1, b, a, c)\n",
    "# 调用\n",
    "hanoi(3, 'A', 'B', 'C')"
   ]
  },
  {
   "cell_type": "code",
   "execution_count": 2,
   "metadata": {},
   "outputs": [
    {
     "data": {
      "text/plain": [
       "3"
      ]
     },
     "execution_count": 2,
     "metadata": {},
     "output_type": "execute_result"
    }
   ],
   "source": [
    "def calsum(n):\n",
    "    if n==1:\n",
    "        return 1\n",
    "    return n+calsum(n-1)\n",
    "\n",
    "calsum(2)"
   ]
  },
  {
   "cell_type": "code",
   "execution_count": null,
   "metadata": {},
   "outputs": [],
   "source": []
  }
 ],
 "metadata": {
  "kernelspec": {
   "display_name": "Python 3",
   "language": "python",
   "name": "python3"
  },
  "language_info": {
   "codemirror_mode": {
    "name": "ipython",
    "version": 3
   },
   "file_extension": ".py",
   "mimetype": "text/x-python",
   "name": "python",
   "nbconvert_exporter": "python",
   "pygments_lexer": "ipython3",
   "version": "3.7.1"
  }
 },
 "nbformat": 4,
 "nbformat_minor": 2
}
